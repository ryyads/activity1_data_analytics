{
 "cells": [
  {
   "cell_type": "markdown",
   "id": "735aa314-bd5d-4a49-beec-0f7fa3f238f9",
   "metadata": {},
   "source": [
    "<h1>MIDTERMS EXAM HANDSON</h1>\n",
    "<hr>"
   ]
  },
  {
   "cell_type": "markdown",
   "id": "40a7f0a7-5e6c-4224-98c8-4ea21b48566c",
   "metadata": {},
   "source": [
    "<h2>Analyst: Raeven Maranan</h2>"
   ]
  },
  {
   "cell_type": "code",
   "execution_count": 76,
   "id": "1e0b3d31-4d1b-46b8-a717-07e9ffed7b0f",
   "metadata": {},
   "outputs": [],
   "source": [
    "import numpy as np\n",
    "import pandas as pd\n",
    "import warnings\n",
    "warnings.filterwarnings('ignore')\n",
    "import seaborn as sns\n",
    "import matplotlib.pyplot as plt\n",
    "from scipy.stats import f_oneway\n",
    "import folium\n",
    "from folium.plugins import HeatMap\n",
    "from matplotlib.ticker import MaxNLocator\n"
   ]
  },
  {
   "cell_type": "code",
   "execution_count": 77,
   "id": "550d9f94-599c-4c59-91b2-060e9bda2071",
   "metadata": {},
   "outputs": [],
   "source": [
    "chcgo=pd.read_csv('chicago_2001_present.csv')"
   ]
  },
  {
   "cell_type": "markdown",
   "id": "05c7016c-83bd-4fc3-b09f-b72889eccfda",
   "metadata": {},
   "source": [
    "<h1>DATAFRAME SUMMARY </h1>\n",
    "<hr>"
   ]
  },
  {
   "cell_type": "code",
   "execution_count": 78,
   "id": "3a40eda7-7def-451d-afa8-86f519b07392",
   "metadata": {},
   "outputs": [
    {
     "name": "stdout",
     "output_type": "stream",
     "text": [
      "<class 'pandas.core.frame.DataFrame'>\n",
      "RangeIndex: 8410198 entries, 0 to 8410197\n",
      "Data columns (total 22 columns):\n",
      " #   Column                Dtype  \n",
      "---  ------                -----  \n",
      " 0   ID                    int64  \n",
      " 1   Case Number           object \n",
      " 2   Date                  object \n",
      " 3   Block                 object \n",
      " 4   IUCR                  object \n",
      " 5   Primary Type          object \n",
      " 6   Description           object \n",
      " 7   Location Description  object \n",
      " 8   Arrest                bool   \n",
      " 9   Domestic              bool   \n",
      " 10  Beat                  int64  \n",
      " 11  District              float64\n",
      " 12  Ward                  float64\n",
      " 13  Community Area        float64\n",
      " 14  FBI Code              object \n",
      " 15  X Coordinate          float64\n",
      " 16  Y Coordinate          float64\n",
      " 17  Year                  int64  \n",
      " 18  Updated On            object \n",
      " 19  Latitude              float64\n",
      " 20  Longitude             float64\n",
      " 21  Location              object \n",
      "dtypes: bool(2), float64(7), int64(3), object(10)\n",
      "memory usage: 1.3+ GB\n"
     ]
    }
   ],
   "source": [
    "chcgo.info()\n"
   ]
  },
  {
   "cell_type": "code",
   "execution_count": 79,
   "id": "8e23c79a-554d-4448-b912-b45768c1325d",
   "metadata": {},
   "outputs": [
    {
     "data": {
      "text/html": [
       "<div>\n",
       "<style scoped>\n",
       "    .dataframe tbody tr th:only-of-type {\n",
       "        vertical-align: middle;\n",
       "    }\n",
       "\n",
       "    .dataframe tbody tr th {\n",
       "        vertical-align: top;\n",
       "    }\n",
       "\n",
       "    .dataframe thead th {\n",
       "        text-align: right;\n",
       "    }\n",
       "</style>\n",
       "<table border=\"1\" class=\"dataframe\">\n",
       "  <thead>\n",
       "    <tr style=\"text-align: right;\">\n",
       "      <th></th>\n",
       "      <th>ID</th>\n",
       "      <th>Beat</th>\n",
       "      <th>District</th>\n",
       "      <th>Ward</th>\n",
       "      <th>Community Area</th>\n",
       "      <th>X Coordinate</th>\n",
       "      <th>Y Coordinate</th>\n",
       "      <th>Year</th>\n",
       "      <th>Latitude</th>\n",
       "      <th>Longitude</th>\n",
       "    </tr>\n",
       "  </thead>\n",
       "  <tbody>\n",
       "    <tr>\n",
       "      <th>count</th>\n",
       "      <td>8.410198e+06</td>\n",
       "      <td>8.410198e+06</td>\n",
       "      <td>8.410151e+06</td>\n",
       "      <td>7.795376e+06</td>\n",
       "      <td>7.796511e+06</td>\n",
       "      <td>8.316513e+06</td>\n",
       "      <td>8.316513e+06</td>\n",
       "      <td>8.410198e+06</td>\n",
       "      <td>8.316513e+06</td>\n",
       "      <td>8.316513e+06</td>\n",
       "    </tr>\n",
       "    <tr>\n",
       "      <th>mean</th>\n",
       "      <td>7.506417e+06</td>\n",
       "      <td>1.183592e+03</td>\n",
       "      <td>1.129624e+01</td>\n",
       "      <td>2.278485e+01</td>\n",
       "      <td>3.738321e+01</td>\n",
       "      <td>1.164655e+06</td>\n",
       "      <td>1.885910e+06</td>\n",
       "      <td>2.010984e+03</td>\n",
       "      <td>4.184253e+01</td>\n",
       "      <td>-8.767129e+01</td>\n",
       "    </tr>\n",
       "    <tr>\n",
       "      <th>std</th>\n",
       "      <td>3.776056e+06</td>\n",
       "      <td>7.037035e+02</td>\n",
       "      <td>6.963286e+00</td>\n",
       "      <td>1.385829e+01</td>\n",
       "      <td>2.154697e+01</td>\n",
       "      <td>1.695337e+04</td>\n",
       "      <td>3.243238e+04</td>\n",
       "      <td>7.057827e+00</td>\n",
       "      <td>8.923247e-02</td>\n",
       "      <td>6.143601e-02</td>\n",
       "    </tr>\n",
       "    <tr>\n",
       "      <th>min</th>\n",
       "      <td>6.340000e+02</td>\n",
       "      <td>1.110000e+02</td>\n",
       "      <td>1.000000e+00</td>\n",
       "      <td>1.000000e+00</td>\n",
       "      <td>0.000000e+00</td>\n",
       "      <td>0.000000e+00</td>\n",
       "      <td>0.000000e+00</td>\n",
       "      <td>2.001000e+03</td>\n",
       "      <td>3.661945e+01</td>\n",
       "      <td>-9.168657e+01</td>\n",
       "    </tr>\n",
       "    <tr>\n",
       "      <th>25%</th>\n",
       "      <td>4.057425e+06</td>\n",
       "      <td>6.210000e+02</td>\n",
       "      <td>6.000000e+00</td>\n",
       "      <td>1.000000e+01</td>\n",
       "      <td>2.300000e+01</td>\n",
       "      <td>1.153071e+06</td>\n",
       "      <td>1.859206e+06</td>\n",
       "      <td>2.005000e+03</td>\n",
       "      <td>4.176894e+01</td>\n",
       "      <td>-8.771335e+01</td>\n",
       "    </tr>\n",
       "    <tr>\n",
       "      <th>50%</th>\n",
       "      <td>7.505136e+06</td>\n",
       "      <td>1.034000e+03</td>\n",
       "      <td>1.000000e+01</td>\n",
       "      <td>2.300000e+01</td>\n",
       "      <td>3.200000e+01</td>\n",
       "      <td>1.166207e+06</td>\n",
       "      <td>1.891022e+06</td>\n",
       "      <td>2.010000e+03</td>\n",
       "      <td>4.185656e+01</td>\n",
       "      <td>-8.766556e+01</td>\n",
       "    </tr>\n",
       "    <tr>\n",
       "      <th>75%</th>\n",
       "      <td>1.089433e+07</td>\n",
       "      <td>1.731000e+03</td>\n",
       "      <td>1.700000e+01</td>\n",
       "      <td>3.400000e+01</td>\n",
       "      <td>5.600000e+01</td>\n",
       "      <td>1.176401e+06</td>\n",
       "      <td>1.909404e+06</td>\n",
       "      <td>2.017000e+03</td>\n",
       "      <td>4.190708e+01</td>\n",
       "      <td>-8.762807e+01</td>\n",
       "    </tr>\n",
       "    <tr>\n",
       "      <th>max</th>\n",
       "      <td>1.398087e+07</td>\n",
       "      <td>2.535000e+03</td>\n",
       "      <td>3.100000e+01</td>\n",
       "      <td>5.000000e+01</td>\n",
       "      <td>7.700000e+01</td>\n",
       "      <td>1.205119e+06</td>\n",
       "      <td>1.951622e+06</td>\n",
       "      <td>2.025000e+03</td>\n",
       "      <td>4.202291e+01</td>\n",
       "      <td>-8.752453e+01</td>\n",
       "    </tr>\n",
       "  </tbody>\n",
       "</table>\n",
       "</div>"
      ],
      "text/plain": [
       "                 ID          Beat      District          Ward  Community Area  \\\n",
       "count  8.410198e+06  8.410198e+06  8.410151e+06  7.795376e+06    7.796511e+06   \n",
       "mean   7.506417e+06  1.183592e+03  1.129624e+01  2.278485e+01    3.738321e+01   \n",
       "std    3.776056e+06  7.037035e+02  6.963286e+00  1.385829e+01    2.154697e+01   \n",
       "min    6.340000e+02  1.110000e+02  1.000000e+00  1.000000e+00    0.000000e+00   \n",
       "25%    4.057425e+06  6.210000e+02  6.000000e+00  1.000000e+01    2.300000e+01   \n",
       "50%    7.505136e+06  1.034000e+03  1.000000e+01  2.300000e+01    3.200000e+01   \n",
       "75%    1.089433e+07  1.731000e+03  1.700000e+01  3.400000e+01    5.600000e+01   \n",
       "max    1.398087e+07  2.535000e+03  3.100000e+01  5.000000e+01    7.700000e+01   \n",
       "\n",
       "       X Coordinate  Y Coordinate          Year      Latitude     Longitude  \n",
       "count  8.316513e+06  8.316513e+06  8.410198e+06  8.316513e+06  8.316513e+06  \n",
       "mean   1.164655e+06  1.885910e+06  2.010984e+03  4.184253e+01 -8.767129e+01  \n",
       "std    1.695337e+04  3.243238e+04  7.057827e+00  8.923247e-02  6.143601e-02  \n",
       "min    0.000000e+00  0.000000e+00  2.001000e+03  3.661945e+01 -9.168657e+01  \n",
       "25%    1.153071e+06  1.859206e+06  2.005000e+03  4.176894e+01 -8.771335e+01  \n",
       "50%    1.166207e+06  1.891022e+06  2.010000e+03  4.185656e+01 -8.766556e+01  \n",
       "75%    1.176401e+06  1.909404e+06  2.017000e+03  4.190708e+01 -8.762807e+01  \n",
       "max    1.205119e+06  1.951622e+06  2.025000e+03  4.202291e+01 -8.752453e+01  "
      ]
     },
     "execution_count": 79,
     "metadata": {},
     "output_type": "execute_result"
    }
   ],
   "source": [
    "chcgo.describe()"
   ]
  },
  {
   "cell_type": "markdown",
   "id": "87b1f409-2087-4585-9fcc-90f5e49ceebd",
   "metadata": {},
   "source": [
    "<h1>FILL NULL VALUES </h1>\n",
    "<hr>"
   ]
  },
  {
   "cell_type": "code",
   "execution_count": 80,
   "id": "e7dcd669-d9bf-4711-b6ff-33d144a91755",
   "metadata": {},
   "outputs": [
    {
     "data": {
      "text/plain": [
       "ID                           0\n",
       "Case Number                  0\n",
       "Date                         0\n",
       "Block                        0\n",
       "IUCR                         0\n",
       "Primary Type                 0\n",
       "Description                  0\n",
       "Location Description     14893\n",
       "Arrest                       0\n",
       "Domestic                     0\n",
       "Beat                         0\n",
       "District                    47\n",
       "Ward                    614822\n",
       "Community Area          613687\n",
       "FBI Code                     0\n",
       "X Coordinate             93685\n",
       "Y Coordinate             93685\n",
       "Year                         0\n",
       "Updated On                   0\n",
       "Latitude                 93685\n",
       "Longitude                93685\n",
       "Location                 93685\n",
       "dtype: int64"
      ]
     },
     "execution_count": 80,
     "metadata": {},
     "output_type": "execute_result"
    }
   ],
   "source": [
    "chcgo.isnull().sum()"
   ]
  },
  {
   "cell_type": "code",
   "execution_count": 26,
   "id": "ea0cb6f1-c2d1-4f0e-be3d-7771809a5345",
   "metadata": {},
   "outputs": [
    {
     "data": {
      "text/plain": [
       "ID                      0\n",
       "Case Number             0\n",
       "Date                    0\n",
       "Block                   0\n",
       "IUCR                    0\n",
       "Primary Type            0\n",
       "Description             0\n",
       "Location Description    0\n",
       "Arrest                  0\n",
       "Domestic                0\n",
       "Beat                    0\n",
       "District                0\n",
       "Ward                    0\n",
       "Community Area          0\n",
       "FBI Code                0\n",
       "X Coordinate            0\n",
       "Y Coordinate            0\n",
       "Year                    0\n",
       "Updated On              0\n",
       "Latitude                0\n",
       "Longitude               0\n",
       "Location                0\n",
       "Month                   0\n",
       "DayOfWeek               0\n",
       "Hour                    0\n",
       "dtype: int64"
      ]
     },
     "execution_count": 26,
     "metadata": {},
     "output_type": "execute_result"
    }
   ],
   "source": [
    "df_loc = chcgo['Location Description'].mode()[0]\n",
    "chcgo['Location Description'].fillna(df_loc, inplace=True)\n",
    "df_dist = chcgo['District'].mode()[0]\n",
    "chcgo['District'].fillna(df_dist, inplace=True)\n",
    "df_ward = chcgo['Ward'].mode()[0]\n",
    "chcgo['Ward'].fillna(df_ward, inplace=True)\n",
    "df_comm = chcgo['Community Area'].mode()[0]\n",
    "chcgo['Community Area'].fillna(df_comm, inplace=True)\n",
    "df_lat = chcgo['Latitude'].mean()\n",
    "chcgo['Latitude'].fillna(df_lat, inplace=True)\n",
    "df_long = chcgo['Longitude'].mean()\n",
    "chcgo['Longitude'].fillna(df_long, inplace=True)\n",
    "df_x = chcgo['X Coordinate'].mean()\n",
    "chcgo['X Coordinate'].fillna(df_x, inplace=True)\n",
    "df_y = chcgo['Y Coordinate'].mean()\n",
    "chcgo['Y Coordinate'].fillna(df_y, inplace=True)\n",
    "chcgo['Location'].fillna('...', inplace=True)\n",
    "chcgo.isnull().sum()"
   ]
  },
  {
   "cell_type": "code",
   "execution_count": 81,
   "id": "3a956b79-2654-448d-9cd2-d9c412fd2d2b",
   "metadata": {},
   "outputs": [
    {
     "data": {
      "text/plain": [
       "ID                           0\n",
       "Case Number                  0\n",
       "Date                         0\n",
       "Block                        0\n",
       "IUCR                         0\n",
       "Primary Type                 0\n",
       "Description                  0\n",
       "Location Description     14893\n",
       "Arrest                       0\n",
       "Domestic                     0\n",
       "Beat                         0\n",
       "District                    47\n",
       "Ward                    614822\n",
       "Community Area          613687\n",
       "FBI Code                     0\n",
       "X Coordinate             93685\n",
       "Y Coordinate             93685\n",
       "Year                         0\n",
       "Updated On                   0\n",
       "Latitude                 93685\n",
       "Longitude                93685\n",
       "Location                 93685\n",
       "Month                        0\n",
       "DayOfWeek                    0\n",
       "Hour                         0\n",
       "dtype: int64"
      ]
     },
     "execution_count": 81,
     "metadata": {},
     "output_type": "execute_result"
    }
   ],
   "source": [
    "chcgo['Date'] = pd.to_datetime(chcgo['Date'], errors='coerce')\n",
    "chcgo['Year'] = chcgo['Date'].dt.year\n",
    "chcgo['Month'] = chcgo['Date'].dt.month\n",
    "chcgo['DayOfWeek'] = chcgo['Date'].dt.day_name()\n",
    "chcgo['Hour'] = chcgo['Date'].dt.hour\n",
    "chcgo.isnull().sum()"
   ]
  },
  {
   "cell_type": "markdown",
   "id": "eacda8bc-625a-41c6-a235-ae66ca064b16",
   "metadata": {},
   "source": [
    "<h1>QUESTIONS AND INSIGHTS </h1>\n",
    "<hr>"
   ]
  },
  {
   "cell_type": "markdown",
   "id": "1689ee26-e10d-4cef-b97a-a1e600887cc6",
   "metadata": {},
   "source": [
    "<h1>1.)Which year recorded the highest number of crimes? </h1>"
   ]
  },
  {
   "cell_type": "code",
   "execution_count": 82,
   "id": "6a74a82e-4237-416f-bc50-f0ee20991c43",
   "metadata": {},
   "outputs": [
    {
     "data": {
      "text/plain": [
       "Year\n",
       "2002    486830\n",
       "2001    485954\n",
       "2003    475996\n",
       "2004    469439\n",
       "2005    453785\n",
       "2006    448198\n",
       "2007    437105\n",
       "2008    427211\n",
       "2009    392859\n",
       "2010    370555\n",
       "2011    352039\n",
       "2012    336367\n",
       "2013    307603\n",
       "2014    275866\n",
       "2016    269930\n",
       "2017    269259\n",
       "2018    269105\n",
       "2015    264867\n",
       "2023    263119\n",
       "2019    261648\n",
       "2024    258688\n",
       "2022    239911\n",
       "2020    212643\n",
       "2021    209571\n",
       "2025    171650\n",
       "Name: count, dtype: int64"
      ]
     },
     "execution_count": 82,
     "metadata": {},
     "output_type": "execute_result"
    }
   ],
   "source": [
    "chcgo['Year'].value_counts()"
   ]
  },
  {
   "cell_type": "code",
   "execution_count": 83,
   "id": "950dfeb5-1d68-4895-9bf9-634f86460d27",
   "metadata": {},
   "outputs": [
    {
     "data": {
      "text/plain": [
       "Year\n",
       "2002    486830\n",
       "Name: count, dtype: int64"
      ]
     },
     "execution_count": 83,
     "metadata": {},
     "output_type": "execute_result"
    }
   ],
   "source": [
    "yrh = chcgo['Year'].value_counts().sort_index()\n",
    "yrh.nlargest(1)"
   ]
  },
  {
   "cell_type": "markdown",
   "id": "5824ad1a-5c6e-438d-ae0f-e77d4ae908a0",
   "metadata": {},
   "source": [
    "<h1>insight 1 </h1>\n",
    "<p>according to the data set, the year with the highest crime count is the year 2002</p>"
   ]
  },
  {
   "cell_type": "markdown",
   "id": "ae689b8b-c551-4244-ade6-2b5d1a462882",
   "metadata": {},
   "source": [
    "<h1>insight 2 </h1>\n",
    "<p>this indicates that in 2002 numerous incidents peaked</p>"
   ]
  },
  {
   "cell_type": "markdown",
   "id": "9782282f-63da-4ad0-bdef-a554a4c26597",
   "metadata": {},
   "source": [
    "<h1>2.)Which year recorded the lowest number of crimes? </h1>"
   ]
  },
  {
   "cell_type": "code",
   "execution_count": 84,
   "id": "ab46b4fc-034a-49c8-b0d5-6034fe8eecec",
   "metadata": {},
   "outputs": [
    {
     "data": {
      "text/plain": [
       "Year\n",
       "2025    171650\n",
       "Name: count, dtype: int64"
      ]
     },
     "execution_count": 84,
     "metadata": {},
     "output_type": "execute_result"
    }
   ],
   "source": [
    "yrl = chcgo['Year'].value_counts().sort_index()\n",
    "yrl.nsmallest(1)"
   ]
  },
  {
   "cell_type": "markdown",
   "id": "b31e568a-a5cb-4916-945c-ac222d884899",
   "metadata": {},
   "source": [
    "<h1>insight 3 </h1>\n",
    "<p>according to the data set, the year with the lowest crime count is the year 2025</p>"
   ]
  },
  {
   "cell_type": "markdown",
   "id": "618a9b27-e070-4667-83ff-191a6b720a2a",
   "metadata": {},
   "source": [
    "<h1>insight 4 </h1>\n",
    "<p>this is because this is the current year we are on, meaning the crime counts are still counting and or the current sytem has been changed lessening the ammount of incidents to happen in chicago</p>"
   ]
  },
  {
   "cell_type": "markdown",
   "id": "3a21f40b-0877-4bb9-9829-1c189c274953",
   "metadata": {},
   "source": [
    "<h1>3.)What are the top 5 crime types in Chicago? </h1>"
   ]
  },
  {
   "cell_type": "code",
   "execution_count": 85,
   "id": "6c65c914-02b7-4a68-b86d-95bde6195e1b",
   "metadata": {},
   "outputs": [
    {
     "data": {
      "text/plain": [
       "Primary Type\n",
       "THEFT                                1785150\n",
       "BATTERY                              1532491\n",
       "CRIMINAL DAMAGE                       956346\n",
       "NARCOTICS                             763342\n",
       "ASSAULT                               563123\n",
       "OTHER OFFENSE                         524325\n",
       "BURGLARY                              444757\n",
       "MOTOR VEHICLE THEFT                   429681\n",
       "DECEPTIVE PRACTICE                    387055\n",
       "ROBBERY                               314286\n",
       "CRIMINAL TRESPASS                     226310\n",
       "WEAPONS VIOLATION                     124642\n",
       "PROSTITUTION                           70405\n",
       "OFFENSE INVOLVING CHILDREN             60359\n",
       "PUBLIC PEACE VIOLATION                 54729\n",
       "SEX OFFENSE                            34126\n",
       "CRIM SEXUAL ASSAULT                    27290\n",
       "INTERFERENCE WITH PUBLIC OFFICER       20176\n",
       "LIQUOR LAW VIOLATION                   15377\n",
       "GAMBLING                               14663\n",
       "ARSON                                  14396\n",
       "HOMICIDE                               13949\n",
       "CRIMINAL SEXUAL ASSAULT                11380\n",
       "KIDNAPPING                              7488\n",
       "STALKING                                6115\n",
       "INTIMIDATION                            5088\n",
       "CONCEALED CARRY LICENSE VIOLATION       1633\n",
       "OBSCENITY                                950\n",
       "PUBLIC INDECENCY                         215\n",
       "OTHER NARCOTIC VIOLATION                 163\n",
       "HUMAN TRAFFICKING                        137\n",
       "NON-CRIMINAL                              26\n",
       "RITUALISM                                 24\n",
       "DOMESTIC VIOLENCE                          1\n",
       "Name: count, dtype: int64"
      ]
     },
     "execution_count": 85,
     "metadata": {},
     "output_type": "execute_result"
    }
   ],
   "source": [
    "chcgo['Primary Type'].value_counts()"
   ]
  },
  {
   "cell_type": "code",
   "execution_count": 86,
   "id": "5a27697a-2b21-489a-9e3b-08cf85cc45c8",
   "metadata": {},
   "outputs": [
    {
     "data": {
      "text/plain": [
       "Primary Type\n",
       "THEFT              1785150\n",
       "BATTERY            1532491\n",
       "CRIMINAL DAMAGE     956346\n",
       "NARCOTICS           763342\n",
       "ASSAULT             563123\n",
       "Name: count, dtype: int64"
      ]
     },
     "execution_count": 86,
     "metadata": {},
     "output_type": "execute_result"
    }
   ],
   "source": [
    "top5 = chcgo['Primary Type'].value_counts().head(5)\n",
    "top5"
   ]
  },
  {
   "cell_type": "markdown",
   "id": "0f7ad719-374c-43df-a9f6-cfc93b82415a",
   "metadata": {},
   "source": [
    "<h1>insight 5 </h1>\n",
    "<p>according to the data set, the top 5 common crime types are:THEFT,BATTERY, CRIMINAL, DAMAGE,  NARCOTICS, and ASSAULT </p>"
   ]
  },
  {
   "cell_type": "markdown",
   "id": "c021c459-c7a8-4406-96e5-4a4bc496c94c",
   "metadata": {},
   "source": [
    "<h1>insight 6 </h1>\n",
    "<p> this also show that property crimes are frequent crimes that are committed in chicago </p>"
   ]
  },
  {
   "cell_type": "markdown",
   "id": "02f467fd-df20-4bf5-bf29-1a1aca3e3d7f",
   "metadata": {},
   "source": [
    "<h1>4.) Which crime type is the least common in the dataset? </h1>"
   ]
  },
  {
   "cell_type": "code",
   "execution_count": 87,
   "id": "0940698c-ef71-49b6-a1c2-d66683852e1c",
   "metadata": {},
   "outputs": [
    {
     "data": {
      "text/plain": [
       "Primary Type\n",
       "DOMESTIC VIOLENCE    1\n",
       "Name: count, dtype: int64"
      ]
     },
     "execution_count": 87,
     "metadata": {},
     "output_type": "execute_result"
    }
   ],
   "source": [
    "crime = chcgo['Primary Type'].value_counts().tail(1)\n",
    "crime"
   ]
  },
  {
   "cell_type": "markdown",
   "id": "9fac1e71-30d2-44e3-86c2-a317225923e7",
   "metadata": {},
   "source": [
    "<h1>insight 7 </h1>\n",
    "<p>according to the data set, the top 5 leats common crime type is DOMESTIC VIOLENCE </p>"
   ]
  },
  {
   "cell_type": "markdown",
   "id": "11b8b815-160e-44b3-ae80-d0749cf790c6",
   "metadata": {},
   "source": [
    "<h1>5.) How many theft cases were reported in 2019? </h1>"
   ]
  },
  {
   "cell_type": "code",
   "execution_count": 88,
   "id": "16849b77-f7a9-48d0-86d7-b908a9350c1a",
   "metadata": {},
   "outputs": [
    {
     "data": {
      "text/plain": [
       "62499"
      ]
     },
     "execution_count": 88,
     "metadata": {},
     "output_type": "execute_result"
    }
   ],
   "source": [
    "theft_19 = chcgo[(chcgo['Year']==2019) & (chcgo['Primary Type']=='THEFT')].shape[0]\n",
    "theft_19"
   ]
  },
  {
   "cell_type": "markdown",
   "id": "6fa58329-5aaa-4bee-95ee-637acb09a738",
   "metadata": {},
   "source": [
    "<h1>insight 8 </h1>\n",
    "<p>according to the data set, during the year 2019 around 62499 theft cases were reported </p>"
   ]
  },
  {
   "cell_type": "markdown",
   "id": "600a6f98-1484-40e1-b618-494f71ab2c16",
   "metadata": {},
   "source": [
    "<h1>insight 9 </h1>\n",
    "<p> this shows that it is needed to bebetter property protection measure in order to prevent theft</p>"
   ]
  },
  {
   "cell_type": "markdown",
   "id": "c3fb6377-8cbb-4dae-b2f5-1f8ebaab91ab",
   "metadata": {},
   "source": [
    "<h1>6.)Which month has the highest number of reported crimes? </h1>"
   ]
  },
  {
   "cell_type": "code",
   "execution_count": 89,
   "id": "9f4e4327-752a-479d-88b3-effb983670da",
   "metadata": {},
   "outputs": [
    {
     "data": {
      "image/png": "[encoded data removed]",
      "text/plain": [
       "<Figure size 900x500 with 1 Axes>"
      ]
     },
     "metadata": {},
     "output_type": "display_data"
    },
    {
     "data": {
      "text/plain": [
       "np.int32(7)"
      ]
     },
     "execution_count": 89,
     "metadata": {},
     "output_type": "execute_result"
    }
   ],
   "source": [
    "monthly_counts = chcgo['Month'].value_counts().sort_index()\n",
    "fig, ax = plt.subplots(figsize=(9,5))\n",
    "ax.bar(monthly_counts.index, monthly_counts.values)\n",
    "ax.set_title('Crimes by Month')\n",
    "ax.set_xlabel('Month')\n",
    "ax.set_ylabel('Number of Crimes')\n",
    "ax.xaxis.set_major_locator(MaxNLocator(integer=True))\n",
    "plt.show()\n",
    "monthly_counts.idxmax()"
   ]
  },
  {
   "cell_type": "markdown",
   "id": "f38d95cd-b66d-48df-a151-58b6f2b57ad2",
   "metadata": {},
   "source": [
    "<h1>insight 10 </h1>\n",
    "<p> accordin to this data set, the month of july has the highest number of reported cases</p>"
   ]
  },
  {
   "cell_type": "markdown",
   "id": "10a40904-1a8b-4dbb-852c-aba7b4d6a804",
   "metadata": {},
   "source": [
    "<h1>insight 11 </h1>\n",
    "<p> this tells that summer month in chicago usually has higher crime numbers </p>"
   ]
  },
  {
   "cell_type": "markdown",
   "id": "f5cabad5-b1ea-4fd7-890e-02eb9fa7eeef",
   "metadata": {},
   "source": [
    "<h1>7.)Which day of the week has the most crimes? </h1>"
   ]
  },
  {
   "cell_type": "code",
   "execution_count": 90,
   "id": "3a651b01-a8e7-42ec-b2c3-0a8c76144d3a",
   "metadata": {},
   "outputs": [
    {
     "data": {
      "text/plain": [
       "DayOfWeek\n",
       "Friday       1261341\n",
       "Wednesday    1208169\n",
       "Saturday     1206357\n",
       "Tuesday      1200628\n",
       "Thursday     1196290\n",
       "Monday       1189517\n",
       "Sunday       1147896\n",
       "Name: count, dtype: int64"
      ]
     },
     "execution_count": 90,
     "metadata": {},
     "output_type": "execute_result"
    }
   ],
   "source": [
    "chcgo['DayOfWeek'].value_counts()"
   ]
  },
  {
   "cell_type": "code",
   "execution_count": 91,
   "id": "02ac554e-8ef6-4b0e-aba2-aeb07b446d89",
   "metadata": {},
   "outputs": [
    {
     "data": {
      "text/plain": [
       "'Friday'"
      ]
     },
     "execution_count": 91,
     "metadata": {},
     "output_type": "execute_result"
    }
   ],
   "source": [
    "dow_counts = chcgo['DayOfWeek'].value_counts()\n",
    "dow_counts.idxmax()"
   ]
  },
  {
   "cell_type": "markdown",
   "id": "d4ffe576-ef5e-467b-a90d-ec58f7fc4e5f",
   "metadata": {},
   "source": [
    "<h1>insight 12 </h1>\n",
    "<p> accordin to this data set, friday is the day of the week that has the most crimes</p>"
   ]
  },
  {
   "cell_type": "markdown",
   "id": "d4c3e3a4-2705-427a-8728-c7703dffb28c",
   "metadata": {},
   "source": [
    "<h1>insight 13 </h1>\n",
    "<p>this is probably because the weekends have increased social activities</p>"
   ]
  },
  {
   "cell_type": "markdown",
   "id": "dafbd558-bd10-4232-af42-f25f26a9cf66",
   "metadata": {},
   "source": [
    "<h1>8.) How many arrests vs non-arrests were there in 2020?</h1>"
   ]
  },
  {
   "cell_type": "code",
   "execution_count": 92,
   "id": "7d569f47-4d0f-4002-9755-622def814c93",
   "metadata": {},
   "outputs": [
    {
     "data": {
      "image/png": "[encoded data removed]",
      "text/plain": [
       "<Figure size 600x400 with 1 Axes>"
      ]
     },
     "metadata": {},
     "output_type": "display_data"
    },
    {
     "data": {
      "text/plain": [
       "Arrest\n",
       "False    178448\n",
       "True      34195\n",
       "Name: count, dtype: int64"
      ]
     },
     "execution_count": 92,
     "metadata": {},
     "output_type": "execute_result"
    }
   ],
   "source": [
    "data2020 = chcgo[chcgo['Year']==2020]['Arrest'].value_counts()\n",
    "fig, ax = plt.subplots(figsize=(6,4))\n",
    "ax.bar(data2020.index.astype(str), data2020.values)\n",
    "ax.set_title('Arrests vs Non-Arrests (2020)')\n",
    "ax.set_xlabel('Arrest')\n",
    "ax.set_ylabel('Count')\n",
    "plt.show()\n",
    "data2020"
   ]
  },
  {
   "cell_type": "markdown",
   "id": "eb93776d-2cc1-452e-b369-89792cd8640a",
   "metadata": {},
   "source": [
    "<h1>insight 14 </h1>\n",
    "<p> according to this data set, threre were 34195 arrests and 178448 non-arrest that happened during the year 2020 </p>"
   ]
  },
  {
   "cell_type": "markdown",
   "id": "91afd55f-489d-40c5-8b57-29a98ee11848",
   "metadata": {},
   "source": [
    "<h1>insight 15 </h1>\n",
    "<p> this mean that the other cases sould still be ongoing or left unresolved </p>"
   ]
  },
  {
   "cell_type": "markdown",
   "id": "79c57c1f-1050-4fac-a968-2fbad98f5308",
   "metadata": {},
   "source": [
    "<h1>9.)Which location has the highest number of crime reports? </h1>"
   ]
  },
  {
   "cell_type": "code",
   "execution_count": 93,
   "id": "b6dfb786-f154-4153-a3a9-29a34d8d8ac7",
   "metadata": {},
   "outputs": [
    {
     "data": {
      "text/plain": [
       "Location Description\n",
       "STREET                    2197287\n",
       "RESIDENCE                 1381812\n",
       "APARTMENT                  998492\n",
       "SIDEWALK                   761765\n",
       "OTHER                      269939\n",
       "                           ...   \n",
       "JUNK YARD/GARBAGE DUMP          1\n",
       "LIVERY AUTO                     1\n",
       "FUNERAL PARLOR                  1\n",
       "POLICE FACILITY                 1\n",
       "LOADING DOCK                    1\n",
       "Name: count, Length: 218, dtype: int64"
      ]
     },
     "execution_count": 93,
     "metadata": {},
     "output_type": "execute_result"
    }
   ],
   "source": [
    "chcgo['Location Description'].value_counts()"
   ]
  },
  {
   "cell_type": "code",
   "execution_count": 94,
   "id": "50d12d68-9d85-4314-8a03-fb7f2d5ec5ed",
   "metadata": {},
   "outputs": [
    {
     "data": {
      "text/plain": [
       "'STREET'"
      ]
     },
     "execution_count": 94,
     "metadata": {},
     "output_type": "execute_result"
    }
   ],
   "source": [
    "loch = chcgo['Location Description'].value_counts().idxmax()\n",
    "loch"
   ]
  },
  {
   "cell_type": "markdown",
   "id": "c0860c33-7330-4833-b092-c13c8e554af1",
   "metadata": {},
   "source": [
    "<h1>insight 16 </h1>\n",
    "<p> according to this data set, streets has the highest no. of crime reports </p>"
   ]
  },
  {
   "cell_type": "markdown",
   "id": "82299f81-8445-4fdc-afbb-6001527eff07",
   "metadata": {},
   "source": [
    "<h1>insight 17 </h1>\n",
    "<p> meanning that public spaces are often places with high-risk of crime </p>"
   ]
  },
  {
   "cell_type": "markdown",
   "id": "e63221a8-19fd-43a7-9eed-d226943904ea",
   "metadata": {},
   "source": [
    "<h1>insight 18 </h1>\n",
    "<p> increased or better safety measures can help in reducing these incidents </p>"
   ]
  },
  {
   "cell_type": "markdown",
   "id": "e78564c2-5c2d-406f-813e-c7a7785a5f0a",
   "metadata": {},
   "source": [
    "<h1>10.)What are the top 5 locations where crimes occur? </h1>"
   ]
  },
  {
   "cell_type": "code",
   "execution_count": 95,
   "id": "5a6efc2f-016c-4280-a674-ffc4f2799979",
   "metadata": {},
   "outputs": [
    {
     "data": {
      "image/png": "[encoded data removed]",
      "text/plain": [
       "<Figure size 900x500 with 1 Axes>"
      ]
     },
     "metadata": {},
     "output_type": "display_data"
    },
    {
     "data": {
      "text/plain": [
       "Location Description\n",
       "STREET       2197287\n",
       "RESIDENCE    1381812\n",
       "APARTMENT     998492\n",
       "SIDEWALK      761765\n",
       "OTHER         269939\n",
       "Name: count, dtype: int64"
      ]
     },
     "execution_count": 95,
     "metadata": {},
     "output_type": "execute_result"
    }
   ],
   "source": [
    "loc_top5 = chcgo['Location Description'].value_counts().head(5)\n",
    "fig, ax = plt.subplots(figsize=(9,5))\n",
    "ax.barh(loc_top5.index[::-1], loc_top5.values[::-1])\n",
    "ax.set_title('Top 5 Crime Locations')\n",
    "ax.set_xlabel('Number of Crimes')\n",
    "plt.show()\n",
    "loc_top5"
   ]
  },
  {
   "cell_type": "markdown",
   "id": "aff7d933-b726-4ad9-b203-9e1503b0c559",
   "metadata": {},
   "source": [
    "<h1>insight 19 </h1>\n",
    "<p> according to this data set, top 5 places that crimes occurs are: STREET, RESIDENCE, APARTMENT, SIDEWALK, and OTHER areas  </p>"
   ]
  },
  {
   "cell_type": "markdown",
   "id": "98629677-a248-4e69-870c-158a3fb6b77b",
   "metadata": {},
   "source": [
    "<h1>11.)What is the most common crime in residences? </h1>"
   ]
  },
  {
   "cell_type": "code",
   "execution_count": 96,
   "id": "f6626d55-f357-498b-8de7-50e37d37e434",
   "metadata": {},
   "outputs": [
    {
     "data": {
      "text/plain": [
       "Primary Type\n",
       "BATTERY    381657\n",
       "Name: count, dtype: int64"
      ]
     },
     "execution_count": 96,
     "metadata": {},
     "output_type": "execute_result"
    }
   ],
   "source": [
    "res_top = chcgo[chcgo['Location Description'].str.upper().str.contains('RESID', na=False)]['Primary Type'].value_counts().head(1)\n",
    "res_top"
   ]
  },
  {
   "cell_type": "markdown",
   "id": "378b6f18-956e-4729-b622-567ce67a5b42",
   "metadata": {},
   "source": [
    "<h1>insight 20 </h1>\n",
    "<p> according to this data set, battery is the most common crime in residences </p>"
   ]
  },
  {
   "cell_type": "markdown",
   "id": "4bdea001-2d2d-4080-ad36-2da0616af134",
   "metadata": {},
   "source": [
    "<h1>insight 21 </h1>\n",
    "<p> this tells that domestic and property crimes frequently occur at residences </p>"
   ]
  },
  {
   "cell_type": "markdown",
   "id": "50ee7130-ac5b-4b9f-978b-d8e7b1f6afa0",
   "metadata": {},
   "source": [
    "<h1>12.)How many domestic crimes were reported in 2018? </h1>"
   ]
  },
  {
   "cell_type": "code",
   "execution_count": 97,
   "id": "caf4efd5-e417-4a1c-b0ae-30370b8eb143",
   "metadata": {},
   "outputs": [
    {
     "data": {
      "text/plain": [
       "51868"
      ]
     },
     "execution_count": 97,
     "metadata": {},
     "output_type": "execute_result"
    }
   ],
   "source": [
    "dom2018 = chcgo[(chcgo['Year']==2018) & (chcgo.get('Domestic', False)==True)].shape[0]\n",
    "dom2018"
   ]
  },
  {
   "cell_type": "markdown",
   "id": "ed430034-56ff-45c6-a92a-4742d4c87461",
   "metadata": {},
   "source": [
    "<h1>insight 22</h1>\n",
    "<p> according to this data set, 51868 domestic crimes were reported in the year 2018  </p>"
   ]
  },
  {
   "cell_type": "markdown",
   "id": "527892a8-72ec-4738-81f5-87d740af17d8",
   "metadata": {},
   "source": [
    "<h1>13.)Which ward recorded the highest number of crimes? </h1>"
   ]
  },
  {
   "cell_type": "code",
   "execution_count": 98,
   "id": "3593db24-bdae-4a4b-92fd-1a885a0fa2b2",
   "metadata": {},
   "outputs": [
    {
     "data": {
      "text/plain": [
       "Ward\n",
       "28.0    356615\n",
       "42.0    319823\n",
       "24.0    303242\n",
       "27.0    299053\n",
       "2.0     264984\n",
       "6.0     260601\n",
       "17.0    257134\n",
       "20.0    255677\n",
       "21.0    236170\n",
       "3.0     235103\n",
       "16.0    225300\n",
       "34.0    217532\n",
       "8.0     216935\n",
       "7.0     212856\n",
       "37.0    210999\n",
       "9.0     204837\n",
       "15.0    195494\n",
       "5.0     186430\n",
       "29.0    179633\n",
       "4.0     163153\n",
       "1.0     148391\n",
       "10.0    135136\n",
       "26.0    132096\n",
       "18.0    128033\n",
       "32.0    127415\n",
       "25.0    114526\n",
       "49.0    113539\n",
       "44.0    110552\n",
       "46.0    107400\n",
       "31.0    106266\n",
       "14.0    105750\n",
       "11.0    105294\n",
       "30.0    104533\n",
       "35.0    101997\n",
       "23.0     97710\n",
       "43.0     96933\n",
       "13.0     94895\n",
       "12.0     94419\n",
       "22.0     91473\n",
       "36.0     85616\n",
       "41.0     83549\n",
       "40.0     83429\n",
       "48.0     81273\n",
       "47.0     80904\n",
       "50.0     80874\n",
       "38.0     80126\n",
       "45.0     80125\n",
       "33.0     78206\n",
       "39.0     73606\n",
       "19.0     69739\n",
       "Name: count, dtype: int64"
      ]
     },
     "execution_count": 98,
     "metadata": {},
     "output_type": "execute_result"
    }
   ],
   "source": [
    "chcgo['Ward'].value_counts()"
   ]
  },
  {
   "cell_type": "code",
   "execution_count": 99,
   "id": "b423f1bd-29ab-434e-bda3-61d4a9c1a3cc",
   "metadata": {},
   "outputs": [
    {
     "data": {
      "text/plain": [
       "Ward\n",
       "28.0    356615\n",
       "Name: count, dtype: int64"
      ]
     },
     "execution_count": 99,
     "metadata": {},
     "output_type": "execute_result"
    }
   ],
   "source": [
    "wardh = chcgo['Ward'].value_counts().head(1)\n",
    "wardh"
   ]
  },
  {
   "cell_type": "markdown",
   "id": "baf8d22f-230b-4a8d-bcf4-fa847d1257fb",
   "metadata": {},
   "source": [
    "<h1>insight 23</h1>\n",
    "<p> according to this data set, 28.0 has the highest no. of crimes with 971437 crimes  </p>"
   ]
  },
  {
   "cell_type": "markdown",
   "id": "ebe826ba-cba1-4448-a466-a0d79786aa41",
   "metadata": {},
   "source": [
    "<h1>14.)Which are the top 5 wards with the most crimes? </h1>"
   ]
  },
  {
   "cell_type": "code",
   "execution_count": 100,
   "id": "eee484e3-a14b-440f-8c2b-ca8723a521ef",
   "metadata": {},
   "outputs": [
    {
     "data": {
      "text/plain": [
       "Ward\n",
       "28.0    356615\n",
       "42.0    319823\n",
       "24.0    303242\n",
       "27.0    299053\n",
       "2.0     264984\n",
       "Name: count, dtype: int64"
      ]
     },
     "execution_count": 100,
     "metadata": {},
     "output_type": "execute_result"
    }
   ],
   "source": [
    "ward_top5 = chcgo['Ward'].value_counts().head(5)\n",
    "ward_top5"
   ]
  },
  {
   "cell_type": "markdown",
   "id": "a9517b29-d846-4fee-974e-c495c43de587",
   "metadata": {},
   "source": [
    "<h1>insight 24</h1>\n",
    "<p> according to this data set, the top5 wards with the most crimes are 28.0, 42.0, 24.0, 27.0, and 2.0  </p>"
   ]
  },
  {
   "cell_type": "markdown",
   "id": "39c93e38-80db-47d4-ac58-22b42d0c12a1",
   "metadata": {},
   "source": [
    "<h1>15.)How many crimes led to arrests in 2015? </h1>"
   ]
  },
  {
   "cell_type": "code",
   "execution_count": 101,
   "id": "4858260b-c444-4e9a-aaf4-0220ddf9f038",
   "metadata": {},
   "outputs": [
    {
     "data": {
      "text/plain": [
       "70071"
      ]
     },
     "execution_count": 101,
     "metadata": {},
     "output_type": "execute_result"
    }
   ],
   "source": [
    "arrest2015 = chcgo[(chcgo['Year']==2015) & (chcgo['Arrest']==True)].shape[0]\n",
    "arrest2015"
   ]
  },
  {
   "cell_type": "markdown",
   "id": "43127b8e-ae49-45d7-b320-30f3a1bcaf59",
   "metadata": {},
   "source": [
    "<h1>insight 25 </h1>\n",
    "<p> according to this data set, 70071 crimes led to arrests in the year 2015  </p>"
   ]
  },
  {
   "cell_type": "markdown",
   "id": "6e25db2f-af27-4904-9220-7e447982d3e0",
   "metadata": {},
   "source": [
    "<h1>16.) Which crime type has the highest arrest rate? </h1>"
   ]
  },
  {
   "cell_type": "code",
   "execution_count": 102,
   "id": "aac87565-5c84-4d7d-a2e9-2a8e5d4ba439",
   "metadata": {},
   "outputs": [
    {
     "data": {
      "text/plain": [
       "Primary Type\n",
       "DOMESTIC VIOLENCE    1.0\n",
       "Name: Arrest, dtype: float64"
      ]
     },
     "execution_count": 102,
     "metadata": {},
     "output_type": "execute_result"
    }
   ],
   "source": [
    "arrest_rate = chcgo.groupby('Primary Type')['Arrest'].mean().sort_values(ascending=False).head(1)\n",
    "arrest_rate"
   ]
  },
  {
   "cell_type": "markdown",
   "id": "d818e178-f42e-4ddc-b2f2-fc006f27ce9b",
   "metadata": {},
   "source": [
    "<h1>insight 26</h1>\n",
    "<p> according to this data set, domestic violence has the highest arrest rate  </p>"
   ]
  },
  {
   "cell_type": "markdown",
   "id": "b07606e8-42e0-4e3c-8325-842bd0b4e090",
   "metadata": {},
   "source": [
    "<h1>insight 27</h1>\n",
    "<p> this shows that violent and possesion crimes also have a high arrest and is easier to investigate  </p>"
   ]
  },
  {
   "cell_type": "markdown",
   "id": "94882b11-e2ef-48af-9aa5-c142a60edef1",
   "metadata": {},
   "source": [
    "<h1>17.)Which community areas have the most reported crimes? </h1>"
   ]
  },
  {
   "cell_type": "code",
   "execution_count": 103,
   "id": "c25217f3-936b-4de8-af9e-78a3ba6923b9",
   "metadata": {},
   "outputs": [
    {
     "data": {
      "text/plain": [
       "Community Area\n",
       "25.0    479380\n",
       "8.0     280406\n",
       "43.0    257135\n",
       "28.0    242987\n",
       "23.0    241001\n",
       "         ...  \n",
       "74.0     17418\n",
       "12.0     14569\n",
       "47.0     11487\n",
       "9.0       7827\n",
       "0.0         76\n",
       "Name: count, Length: 78, dtype: int64"
      ]
     },
     "execution_count": 103,
     "metadata": {},
     "output_type": "execute_result"
    }
   ],
   "source": [
    "chcgo['Community Area'].value_counts()"
   ]
  },
  {
   "cell_type": "code",
   "execution_count": 104,
   "id": "1719467e-8677-4cc2-a065-3fd069f3ca06",
   "metadata": {},
   "outputs": [
    {
     "data": {
      "image/png": "[encoded data removed]",
      "text/plain": [
       "<Figure size 900x500 with 1 Axes>"
      ]
     },
     "metadata": {},
     "output_type": "display_data"
    },
    {
     "data": {
      "text/plain": [
       "Community Area\n",
       "25.0    479380\n",
       "8.0     280406\n",
       "43.0    257135\n",
       "28.0    242987\n",
       "23.0    241001\n",
       "24.0    229044\n",
       "29.0    226472\n",
       "71.0    219263\n",
       "67.0    216350\n",
       "49.0    204546\n",
       "Name: count, dtype: int64"
      ]
     },
     "execution_count": 104,
     "metadata": {},
     "output_type": "execute_result"
    }
   ],
   "source": [
    "comm_top10 = chcgo['Community Area'].value_counts().head(10)\n",
    "fig, ax = plt.subplots(figsize=(9,5))\n",
    "ax.barh(comm_top10.index.astype(str)[::-1], comm_top10.values[::-1])\n",
    "ax.set_title('Top 10 Community Areas by Crime Count')\n",
    "ax.set_xlabel('Number of Crimes')\n",
    "plt.show()\n",
    "comm_top10"
   ]
  },
  {
   "cell_type": "markdown",
   "id": "27059592-9d0d-409b-9e1b-b475deb47405",
   "metadata": {},
   "source": [
    "<h1>insight28</h1>\n",
    "<p> according to this data set, 25.0 has the most reported crimes  </p>"
   ]
  },
  {
   "cell_type": "markdown",
   "id": "b2c39ea9-d90c-4862-90e6-b9452a036e01",
   "metadata": {},
   "source": [
    "<h1>insight29 </h1>\n",
    "<p> socials programs should focus on these kinda of communities in order to lessen higher risks of crime </p>"
   ]
  },
  {
   "cell_type": "markdown",
   "id": "a5faf74a-7150-4f5a-a65f-55995d3fc896",
   "metadata": {},
   "source": [
    "<h1>18.)What are the top 5 crime types in 2020? </h1>"
   ]
  },
  {
   "cell_type": "code",
   "execution_count": 105,
   "id": "33a95cef-a610-4677-a6a9-c6698a4b3c61",
   "metadata": {},
   "outputs": [
    {
     "data": {
      "text/plain": [
       "Primary Type\n",
       "BATTERY               41517\n",
       "THEFT                 41350\n",
       "CRIMINAL DAMAGE       24882\n",
       "DECEPTIVE PRACTICE    18588\n",
       "ASSAULT               18260\n",
       "Name: count, dtype: int64"
      ]
     },
     "execution_count": 105,
     "metadata": {},
     "output_type": "execute_result"
    }
   ],
   "source": [
    "top2020 = chcgo[chcgo['Year']==2020]['Primary Type'].value_counts().head(5)\n",
    "top2020"
   ]
  },
  {
   "cell_type": "markdown",
   "id": "54a47ddf-2950-4318-92f4-2817e0cb29e4",
   "metadata": {},
   "source": [
    "<h1>insight 30 </h1>\n",
    "<p> according to this data set, the top 5 crime types in the year 2020 were:BATTERY, THEFT, CRIMINAL DAMAGE, DECEPTIVE PRACTICE, and ASSAULT </p>"
   ]
  },
  {
   "cell_type": "markdown",
   "id": "01932980-d717-48cf-82f7-4074761405eb",
   "metadata": {},
   "source": [
    "<h1>19.)  How do theft and battery cases compare over the years?</h1>"
   ]
  },
  {
   "cell_type": "code",
   "execution_count": 106,
   "id": "8bd45786-c56d-498c-8668-ed19084c5a08",
   "metadata": {},
   "outputs": [
    {
     "data": {
      "image/png": "[encoded data removed]",
      "text/plain": [
       "<Figure size 1000x500 with 1 Axes>"
      ]
     },
     "metadata": {},
     "output_type": "display_data"
    },
    {
     "data": {
      "text/html": [
       "<div>\n",
       "<style scoped>\n",
       "    .dataframe tbody tr th:only-of-type {\n",
       "        vertical-align: middle;\n",
       "    }\n",
       "\n",
       "    .dataframe tbody tr th {\n",
       "        vertical-align: top;\n",
       "    }\n",
       "\n",
       "    .dataframe thead th {\n",
       "        text-align: right;\n",
       "    }\n",
       "</style>\n",
       "<table border=\"1\" class=\"dataframe\">\n",
       "  <thead>\n",
       "    <tr style=\"text-align: right;\">\n",
       "      <th>Primary Type</th>\n",
       "      <th>BATTERY</th>\n",
       "      <th>THEFT</th>\n",
       "    </tr>\n",
       "    <tr>\n",
       "      <th>Year</th>\n",
       "      <th></th>\n",
       "      <th></th>\n",
       "    </tr>\n",
       "  </thead>\n",
       "  <tbody>\n",
       "    <tr>\n",
       "      <th>2021</th>\n",
       "      <td>40483</td>\n",
       "      <td>40821</td>\n",
       "    </tr>\n",
       "    <tr>\n",
       "      <th>2022</th>\n",
       "      <td>40962</td>\n",
       "      <td>54899</td>\n",
       "    </tr>\n",
       "    <tr>\n",
       "      <th>2023</th>\n",
       "      <td>44249</td>\n",
       "      <td>57492</td>\n",
       "    </tr>\n",
       "    <tr>\n",
       "      <th>2024</th>\n",
       "      <td>46124</td>\n",
       "      <td>60504</td>\n",
       "    </tr>\n",
       "    <tr>\n",
       "      <th>2025</th>\n",
       "      <td>31125</td>\n",
       "      <td>39992</td>\n",
       "    </tr>\n",
       "  </tbody>\n",
       "</table>\n",
       "</div>"
      ],
      "text/plain": [
       "Primary Type  BATTERY  THEFT\n",
       "Year                        \n",
       "2021            40483  40821\n",
       "2022            40962  54899\n",
       "2023            44249  57492\n",
       "2024            46124  60504\n",
       "2025            31125  39992"
      ]
     },
     "execution_count": 106,
     "metadata": {},
     "output_type": "execute_result"
    }
   ],
   "source": [
    "subset = chcgo[chcgo['Primary Type'].isin(['THEFT','BATTERY'])]\n",
    "trend = subset.groupby(['Year','Primary Type']).size().unstack(fill_value=0)\n",
    "fig, ax = plt.subplots(figsize=(10,5))\n",
    "for col in trend.columns:\n",
    "    ax.plot(trend.index, trend[col], marker='o', label=col)\n",
    "ax.set_title('Theft vs Battery Trends Over Years')\n",
    "ax.set_xlabel('Year')\n",
    "ax.set_ylabel('Number of Crimes')\n",
    "ax.legend()\n",
    "plt.show()\n",
    "trend.tail()"
   ]
  },
  {
   "cell_type": "markdown",
   "id": "816af770-8230-491a-a850-0c18544ed083",
   "metadata": {},
   "source": [
    "<h1>insight 31</h1>\n",
    "<p> according to this data set, through the years, battery and theft crimes both decreased but still showing that theft is dominant </p>"
   ]
  },
  {
   "cell_type": "markdown",
   "id": "206f659a-7c0f-4395-9ab3-292c59bb4698",
   "metadata": {},
   "source": [
    "<h1>20.)In which year did homicides peak? </h1>"
   ]
  },
  {
   "cell_type": "code",
   "execution_count": 107,
   "id": "95be84b6-b8b0-4f1b-adf5-b677535d8384",
   "metadata": {},
   "outputs": [
    {
     "data": {
      "text/plain": [
       "Year\n",
       "2021    813\n",
       "Name: count, dtype: int64"
      ]
     },
     "execution_count": 107,
     "metadata": {},
     "output_type": "execute_result"
    }
   ],
   "source": [
    "homicide_year = chcgo[chcgo['Primary Type'].str.upper().str.contains('HOMICIDE', na=False)]['Year'].value_counts().head(1)\n",
    "homicide_year"
   ]
  },
  {
   "cell_type": "markdown",
   "id": "71950907-5206-4865-aa98-81a806295109",
   "metadata": {},
   "source": [
    "<h1>insight </h1>\n",
    "<p> according to the data set, the year 2021 was the year that homicides peeaked </p>"
   ]
  },
  {
   "cell_type": "markdown",
   "id": "1c439ef2-a565-48b6-9990-6f4594ee5cb0",
   "metadata": {},
   "source": [
    "<h1>21.)How do crimes in alleys compare to those in streets? </h1>"
   ]
  },
  {
   "cell_type": "code",
   "execution_count": 108,
   "id": "ac47f401-0147-414b-b0d0-b96c2007d139",
   "metadata": {},
   "outputs": [
    {
     "data": {
      "image/png": "[encoded data removed]",
      "text/plain": [
       "<Figure size 600x400 with 1 Axes>"
      ]
     },
     "metadata": {},
     "output_type": "display_data"
    },
    {
     "data": {
      "text/plain": [
       "Location Description\n",
       "STREET    2197287\n",
       "ALLEY      187348\n",
       "Name: count, dtype: int64"
      ]
     },
     "execution_count": 108,
     "metadata": {},
     "output_type": "execute_result"
    }
   ],
   "source": [
    "subset = chcgo[chcgo['Location Description'].isin(['ALLEY','STREET'])]['Location Description'].value_counts()\n",
    "fig, ax = plt.subplots(figsize=(6,4))\n",
    "ax.bar(subset.index, subset.values)\n",
    "ax.set_title('Alleys vs Streets - Crime Count')\n",
    "ax.set_xlabel('Location')\n",
    "ax.set_ylabel('Count')\n",
    "plt.show()\n",
    "subset\n"
   ]
  },
  {
   "cell_type": "markdown",
   "id": "ef99b1f6-a0e5-4025-ab31-e8a5352d899a",
   "metadata": {},
   "source": [
    "<h1>insight 32</h1>\n",
    "<p> according to the data set, though both are public spaces streets still had more crime count than the alleys</p>"
   ]
  },
  {
   "cell_type": "markdown",
   "id": "0f99c13e-a543-4d9f-9ca6-0cd6150e4ed3",
   "metadata": {},
   "source": [
    "<h1>insight33 </h1>\n",
    "<p> this is usually because streets are more exposed or open that the alleys, but doesnt mean alleys are less dangerous</p>"
   ]
  },
  {
   "cell_type": "markdown",
   "id": "41f4ef98-a12d-4dd1-8257-3820784483de",
   "metadata": {},
   "source": [
    "<h1>22.) What was the most common crime in 2010? </h1>"
   ]
  },
  {
   "cell_type": "code",
   "execution_count": 109,
   "id": "06d2d31c-a070-4aa5-b6dc-663029099e26",
   "metadata": {},
   "outputs": [
    {
     "data": {
      "text/plain": [
       "Primary Type\n",
       "THEFT    76758\n",
       "Name: count, dtype: int64"
      ]
     },
     "execution_count": 109,
     "metadata": {},
     "output_type": "execute_result"
    }
   ],
   "source": [
    "most2010 = chcgo[chcgo['Year']==2010]['Primary Type'].value_counts().head(1)\n",
    "most2010"
   ]
  },
  {
   "cell_type": "markdown",
   "id": "17e25acb-4ccd-4ac3-94f0-86a77cd0259f",
   "metadata": {},
   "source": [
    "<h1>insight 34 </h1>\n",
    "<p> according to the data set, the most crime in 2010 was theft with 76758 crimes</p>"
   ]
  },
  {
   "cell_type": "markdown",
   "id": "455753ef-3c70-49f4-abee-b20a116b50a8",
   "metadata": {},
   "source": [
    "<h1>23.)Which FBI code appears most frequently in the dataset? </h1>"
   ]
  },
  {
   "cell_type": "code",
   "execution_count": 110,
   "id": "d885d24d-1917-4cf1-bf86-2dd4c5559890",
   "metadata": {},
   "outputs": [
    {
     "data": {
      "text/plain": [
       "FBI Code\n",
       "06     1788058\n",
       "08B    1316358\n",
       "14      956346\n",
       "18      762366\n",
       "26      604360\n",
       "08A     575660\n",
       "05      441849\n",
       "07      429681\n",
       "11      334668\n",
       "03      314286\n",
       "04B     233308\n",
       "04A     155267\n",
       "15      126301\n",
       "24       73746\n",
       "16       70405\n",
       "17       48819\n",
       "10       47519\n",
       "02       45400\n",
       "20       22270\n",
       "22       15377\n",
       "19       14956\n",
       "09       14396\n",
       "01A      13863\n",
       "13        3168\n",
       "12        1685\n",
       "01B         86\n",
       "Name: count, dtype: int64"
      ]
     },
     "execution_count": 110,
     "metadata": {},
     "output_type": "execute_result"
    }
   ],
   "source": [
    "chcgo['FBI Code'].value_counts()"
   ]
  },
  {
   "cell_type": "code",
   "execution_count": 111,
   "id": "2d6a12c6-e09f-4cbe-b469-5fe652ae94dd",
   "metadata": {},
   "outputs": [
    {
     "data": {
      "text/plain": [
       "FBI Code\n",
       "06    1788058\n",
       "Name: count, dtype: int64"
      ]
     },
     "execution_count": 111,
     "metadata": {},
     "output_type": "execute_result"
    }
   ],
   "source": [
    "fbi_top = chcgo['FBI Code'].value_counts().head(1)\n",
    "fbi_top"
   ]
  },
  {
   "cell_type": "markdown",
   "id": "918ca2ab-5c8e-4721-97a8-4fc1da4bdda5",
   "metadata": {},
   "source": [
    "<h1>insight 35 </h1>\n",
    "<p> according to the data set, FBI code 06 s the most frequent to appear </p>"
   ]
  },
  {
   "cell_type": "markdown",
   "id": "775e87bb-27ca-42a0-8d1e-d15a7c44a7a7",
   "metadata": {},
   "source": [
    "<h1>24.)How many crimes occurred near downtown (specifically the latitude 41.85–41.90)? </h1>"
   ]
  },
  {
   "cell_type": "code",
   "execution_count": 112,
   "id": "6057ddf1-ddc6-49b5-a732-1a637af6af91",
   "metadata": {},
   "outputs": [
    {
     "data": {
      "text/plain": [
       "1966118"
      ]
     },
     "execution_count": 112,
     "metadata": {},
     "output_type": "execute_result"
    }
   ],
   "source": [
    "downtown_count = chcgo[(chcgo['Latitude']>=41.85)&(chcgo['Latitude']<=41.90)].shape[0]\n",
    "downtown_count"
   ]
  },
  {
   "cell_type": "markdown",
   "id": "95638473-463d-4261-bdf4-0f4baa92138a",
   "metadata": {},
   "source": [
    "<h1>insight 36</h1>\n",
    "<p> according to the data set, it as around 1966118 crimes  </p>"
   ]
  },
  {
   "cell_type": "markdown",
   "id": "a589f00f-4ea7-49a2-a67f-71f164873fa4",
   "metadata": {},
   "source": [
    "<h1>25.)What are the average latitude and longitude coordinates of crimes? </h1>"
   ]
  },
  {
   "cell_type": "code",
   "execution_count": 113,
   "id": "adecae9c-74f1-4d6c-b304-48a0e3235a54",
   "metadata": {},
   "outputs": [
    {
     "data": {
      "text/plain": [
       "Latitude     41.842530\n",
       "Longitude   -87.671292\n",
       "dtype: float64"
      ]
     },
     "execution_count": 113,
     "metadata": {},
     "output_type": "execute_result"
    }
   ],
   "source": [
    "coords_mean = chcgo[['Latitude','Longitude']].mean()\n",
    "coords_mean"
   ]
  },
  {
   "cell_type": "markdown",
   "id": "10ef4b56-a00d-4d1e-bc36-2047fa60de7d",
   "metadata": {},
   "source": [
    "<h1>insight 37 </h1>\n",
    "<p> according to the data set, the acerage latitude was 41.842530 while the average longitude was Longitude   -87.671292 </p>"
   ]
  },
  {
   "cell_type": "code",
   "execution_count": null,
   "id": "13da8e1a-9af7-4e6a-8854-27cdaa013f6a",
   "metadata": {},
   "outputs": [],
   "source": []
  },
  {
   "cell_type": "code",
   "execution_count": null,
   "id": "cfed8275-f06a-49ad-a8dc-d2d7dcd384ab",
   "metadata": {},
   "outputs": [],
   "source": []
  }
 ],
 "metadata": {
  "kernelspec": {
   "display_name": "Python 3 (ipykernel)",
   "language": "python",
   "name": "python3"
  },
  "language_info": {
   "codemirror_mode": {
    "name": "ipython",
    "version": 3
   },
   "file_extension": ".py",
   "mimetype": "text/x-python",
   "name": "python",
   "nbconvert_exporter": "python",
   "pygments_lexer": "ipython3",
   "version": "3.13.7"
  }
 },
 "nbformat": 4,
 "nbformat_minor": 5
}
