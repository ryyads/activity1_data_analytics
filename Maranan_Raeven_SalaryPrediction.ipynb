{
 "cells": [
  {
   "cell_type": "markdown",
   "id": "28452c8d-00fe-43f7-8d14-7fb58431cd5b",
   "metadata": {},
   "source": [
    "<h1>Assignment: Predicting 2024 Data Science Salaries Using Linear Regression</h1>\n",
    "<hr>\n"
   ]
  },
  {
   "cell_type": "markdown",
   "id": "01aa7bd8-027e-4240-9dd9-ff01daa6f041",
   "metadata": {},
   "source": [
    "<h1>Setting up</h1> "
   ]
  },
  {
   "cell_type": "code",
   "execution_count": 16,
   "id": "4c42e74b-67ba-4c43-b87b-6ed1e33d8a94",
   "metadata": {},
   "outputs": [],
   "source": [
    "import pandas as pd\n",
    "import numpy as np\n",
    "import matplotlib.pyplot as plt\n",
    "import seaborn as sns\n",
    "from sklearn.model_selection import train_test_split\n",
    "from sklearn.linear_model import LinearRegression\n",
    "from sklearn.metrics import r2_score, mean_squared_error\n",
    "from sklearn.preprocessing import LabelEncoder"
   ]
  },
  {
   "cell_type": "code",
   "execution_count": 17,
   "id": "c53c26a4-07e9-4201-a6bf-de65a08a5fca",
   "metadata": {},
   "outputs": [],
   "source": [
    "# Load the dataset\n",
    "ds = pd.read_csv('Data Science Salary 2021 to 2023.csv')"
   ]
  },
  {
   "cell_type": "code",
   "execution_count": 18,
   "id": "9b3787d2-65d4-4a21-89e3-f431aa27b7e1",
   "metadata": {},
   "outputs": [
    {
     "data": {
      "text/html": [
       "<div>\n",
       "<style scoped>\n",
       "    .dataframe tbody tr th:only-of-type {\n",
       "        vertical-align: middle;\n",
       "    }\n",
       "\n",
       "    .dataframe tbody tr th {\n",
       "        vertical-align: top;\n",
       "    }\n",
       "\n",
       "    .dataframe thead th {\n",
       "        text-align: right;\n",
       "    }\n",
       "</style>\n",
       "<table border=\"1\" class=\"dataframe\">\n",
       "  <thead>\n",
       "    <tr style=\"text-align: right;\">\n",
       "      <th></th>\n",
       "      <th>work_year</th>\n",
       "      <th>experience_level</th>\n",
       "      <th>employment_type</th>\n",
       "      <th>job_title</th>\n",
       "      <th>salary</th>\n",
       "      <th>salary_currency</th>\n",
       "      <th>salary_in_usd</th>\n",
       "      <th>company_location</th>\n",
       "      <th>company_size</th>\n",
       "    </tr>\n",
       "  </thead>\n",
       "  <tbody>\n",
       "    <tr>\n",
       "      <th>0</th>\n",
       "      <td>2023</td>\n",
       "      <td>EN</td>\n",
       "      <td>FT</td>\n",
       "      <td>Applied Scientist</td>\n",
       "      <td>213660</td>\n",
       "      <td>USD</td>\n",
       "      <td>213660</td>\n",
       "      <td>US</td>\n",
       "      <td>L</td>\n",
       "    </tr>\n",
       "    <tr>\n",
       "      <th>1</th>\n",
       "      <td>2023</td>\n",
       "      <td>EN</td>\n",
       "      <td>FT</td>\n",
       "      <td>Applied Scientist</td>\n",
       "      <td>130760</td>\n",
       "      <td>USD</td>\n",
       "      <td>130760</td>\n",
       "      <td>US</td>\n",
       "      <td>L</td>\n",
       "    </tr>\n",
       "    <tr>\n",
       "      <th>2</th>\n",
       "      <td>2023</td>\n",
       "      <td>EN</td>\n",
       "      <td>FT</td>\n",
       "      <td>Data Quality Analyst</td>\n",
       "      <td>100000</td>\n",
       "      <td>USD</td>\n",
       "      <td>100000</td>\n",
       "      <td>NG</td>\n",
       "      <td>L</td>\n",
       "    </tr>\n",
       "    <tr>\n",
       "      <th>3</th>\n",
       "      <td>2023</td>\n",
       "      <td>EN</td>\n",
       "      <td>FT</td>\n",
       "      <td>Compliance Data Analyst</td>\n",
       "      <td>30000</td>\n",
       "      <td>USD</td>\n",
       "      <td>30000</td>\n",
       "      <td>NG</td>\n",
       "      <td>L</td>\n",
       "    </tr>\n",
       "    <tr>\n",
       "      <th>4</th>\n",
       "      <td>2023</td>\n",
       "      <td>EN</td>\n",
       "      <td>FT</td>\n",
       "      <td>Applied Scientist</td>\n",
       "      <td>204620</td>\n",
       "      <td>USD</td>\n",
       "      <td>204620</td>\n",
       "      <td>US</td>\n",
       "      <td>L</td>\n",
       "    </tr>\n",
       "  </tbody>\n",
       "</table>\n",
       "</div>"
      ],
      "text/plain": [
       "   work_year experience_level employment_type                job_title  \\\n",
       "0       2023               EN              FT        Applied Scientist   \n",
       "1       2023               EN              FT        Applied Scientist   \n",
       "2       2023               EN              FT     Data Quality Analyst   \n",
       "3       2023               EN              FT  Compliance Data Analyst   \n",
       "4       2023               EN              FT        Applied Scientist   \n",
       "\n",
       "   salary salary_currency  salary_in_usd company_location company_size  \n",
       "0  213660             USD         213660               US            L  \n",
       "1  130760             USD         130760               US            L  \n",
       "2  100000             USD         100000               NG            L  \n",
       "3   30000             USD          30000               NG            L  \n",
       "4  204620             USD         204620               US            L  "
      ]
     },
     "execution_count": 18,
     "metadata": {},
     "output_type": "execute_result"
    }
   ],
   "source": [
    "# Display first few rows\n",
    "ds.head()"
   ]
  },
  {
   "cell_type": "code",
   "execution_count": 19,
   "id": "e1b67e24-f777-4aef-b0bd-69c1676f8342",
   "metadata": {},
   "outputs": [
    {
     "name": "stdout",
     "output_type": "stream",
     "text": [
      "<class 'pandas.core.frame.DataFrame'>\n",
      "RangeIndex: 3761 entries, 0 to 3760\n",
      "Data columns (total 9 columns):\n",
      " #   Column            Non-Null Count  Dtype \n",
      "---  ------            --------------  ----- \n",
      " 0   work_year         3761 non-null   int64 \n",
      " 1   experience_level  3761 non-null   object\n",
      " 2   employment_type   3761 non-null   object\n",
      " 3   job_title         3761 non-null   object\n",
      " 4   salary            3761 non-null   int64 \n",
      " 5   salary_currency   3761 non-null   object\n",
      " 6   salary_in_usd     3761 non-null   int64 \n",
      " 7   company_location  3761 non-null   object\n",
      " 8   company_size      3761 non-null   object\n",
      "dtypes: int64(3), object(6)\n",
      "memory usage: 264.6+ KB\n"
     ]
    }
   ],
   "source": [
    "# Check basic info\n",
    "ds.info()"
   ]
  },
  {
   "cell_type": "markdown",
   "id": "a20550c5-d470-47f9-9c9b-b2e3e960facc",
   "metadata": {},
   "source": [
    "<h1>EDA</h1>"
   ]
  },
  {
   "cell_type": "code",
   "execution_count": 20,
   "id": "a4b43678-e84e-4015-a7b2-a7f3cda02673",
   "metadata": {},
   "outputs": [
    {
     "name": "stdout",
     "output_type": "stream",
     "text": [
      "Number of unique job titles: 93\n"
     ]
    }
   ],
   "source": [
    "# How many unique job titles are there?\n",
    "unique_jobs = ds['job_title'].nunique()\n",
    "print(f\"Number of unique job titles: {unique_jobs}\")\n"
   ]
  },
  {
   "cell_type": "code",
   "execution_count": 21,
   "id": "4974ebb9-e2ed-48e3-b688-87f26737e07e",
   "metadata": {},
   "outputs": [
    {
     "name": "stdout",
     "output_type": "stream",
     "text": [
      "   work_year  salary_in_usd\n",
      "0       2020   92302.631579\n",
      "1       2021   94087.208696\n",
      "2       2022  133379.510804\n",
      "3       2023  148954.558413\n"
     ]
    }
   ],
   "source": [
    "# What is the average salary (salary_in_usd) per work_year?\n",
    "avg_salary_by_year = ds.groupby('work_year')['salary_in_usd'].mean().reset_index()\n",
    "print(avg_salary_by_year)\n"
   ]
  },
  {
   "cell_type": "code",
   "execution_count": 22,
   "id": "8c710fa3-f633-48b3-b53d-209dd8980ed1",
   "metadata": {},
   "outputs": [
    {
     "data": {
      "image/png": "[encoded data removed]",
      "text/plain": [
       "<Figure size 800x500 with 1 Axes>"
      ]
     },
     "metadata": {},
     "output_type": "display_data"
    }
   ],
   "source": [
    "# Create a bar plot showing average salary by experience_level\n",
    "plt.figure(figsize=(8,5))\n",
    "sns.barplot(data=ds, x='experience_level', y='salary_in_usd', estimator='mean', errorbar=None)\n",
    "plt.title(\"Average Salary by Experience Level\")\n",
    "plt.xlabel(\"Experience Level\")\n",
    "plt.ylabel(\"Average Salary (USD)\")\n",
    "plt.show()"
   ]
  },
  {
   "cell_type": "markdown",
   "id": "c1bf9cba-5f23-497a-873e-9accb6107919",
   "metadata": {},
   "source": [
    "<h1>Data Preprocessing for Linear Regression</h1>"
   ]
  },
  {
   "cell_type": "code",
   "execution_count": 23,
   "id": "055f87bf-74ae-4651-890c-b53501c3c435",
   "metadata": {},
   "outputs": [
    {
     "name": "stdout",
     "output_type": "stream",
     "text": [
      "Encoded experience levels: {'EN': np.int64(0), 'EX': np.int64(1), 'MI': np.int64(2), 'SE': np.int64(3)}\n"
     ]
    },
    {
     "data": {
      "text/html": [
       "<div>\n",
       "<style scoped>\n",
       "    .dataframe tbody tr th:only-of-type {\n",
       "        vertical-align: middle;\n",
       "    }\n",
       "\n",
       "    .dataframe tbody tr th {\n",
       "        vertical-align: top;\n",
       "    }\n",
       "\n",
       "    .dataframe thead th {\n",
       "        text-align: right;\n",
       "    }\n",
       "</style>\n",
       "<table border=\"1\" class=\"dataframe\">\n",
       "  <thead>\n",
       "    <tr style=\"text-align: right;\">\n",
       "      <th></th>\n",
       "      <th>work_year</th>\n",
       "      <th>experience_level_encoded</th>\n",
       "    </tr>\n",
       "  </thead>\n",
       "  <tbody>\n",
       "    <tr>\n",
       "      <th>0</th>\n",
       "      <td>2023</td>\n",
       "      <td>0</td>\n",
       "    </tr>\n",
       "    <tr>\n",
       "      <th>1</th>\n",
       "      <td>2023</td>\n",
       "      <td>0</td>\n",
       "    </tr>\n",
       "    <tr>\n",
       "      <th>2</th>\n",
       "      <td>2023</td>\n",
       "      <td>0</td>\n",
       "    </tr>\n",
       "    <tr>\n",
       "      <th>3</th>\n",
       "      <td>2023</td>\n",
       "      <td>0</td>\n",
       "    </tr>\n",
       "    <tr>\n",
       "      <th>4</th>\n",
       "      <td>2023</td>\n",
       "      <td>0</td>\n",
       "    </tr>\n",
       "  </tbody>\n",
       "</table>\n",
       "</div>"
      ],
      "text/plain": [
       "   work_year  experience_level_encoded\n",
       "0       2023                         0\n",
       "1       2023                         0\n",
       "2       2023                         0\n",
       "3       2023                         0\n",
       "4       2023                         0"
      ]
     },
     "execution_count": 23,
     "metadata": {},
     "output_type": "execute_result"
    }
   ],
   "source": [
    "# Encode categorical variable\n",
    "le = LabelEncoder()\n",
    "ds['experience_level_encoded'] = le.fit_transform(ds['experience_level'])\n",
    "\n",
    "# Choose features\n",
    "features = ['work_year', 'experience_level_encoded']\n",
    "X = ds[features]\n",
    "y = ds['salary_in_usd']\n",
    "\n",
    "# Check encoding\n",
    "print(\"Encoded experience levels:\", dict(zip(le.classes_, le.transform(le.classes_))))\n",
    "X.head()"
   ]
  },
  {
   "cell_type": "markdown",
   "id": "bf28f24c-0ff2-4cd5-8378-b06424628654",
   "metadata": {},
   "source": [
    "<h1>Train a Linear Regression Model</h1>"
   ]
  },
  {
   "cell_type": "code",
   "execution_count": 24,
   "id": "760afa1c-06b1-4800-8927-51ab6784d05a",
   "metadata": {},
   "outputs": [
    {
     "name": "stdout",
     "output_type": "stream",
     "text": [
      "R² Score: 0.15\n",
      "RMSE: 59164.82\n"
     ]
    }
   ],
   "source": [
    "# Split data into train/test sets (80/20)\n",
    "X_train, X_test, y_train, y_test = train_test_split(X, y, test_size=0.2, random_state=42)\n",
    "\n",
    "# Create and train model\n",
    "model = LinearRegression()\n",
    "model.fit(X_train, y_train)\n",
    "\n",
    "# Predict\n",
    "y_pred = model.predict(X_test)\n",
    "\n",
    "# Evaluate\n",
    "r2 = r2_score(y_test, y_pred)\n",
    "rmse = np.sqrt(mean_squared_error(y_test, y_pred))\n",
    "\n",
    "print(f\"R² Score: {r2:.2f}\")\n",
    "print(f\"RMSE: {rmse:.2f}\")"
   ]
  },
  {
   "cell_type": "markdown",
   "id": "260b5588-9cf7-47ff-b32a-06514f705e7f",
   "metadata": {},
   "source": [
    "<h1>Predict 2024 Salaries</h1>"
   ]
  },
  {
   "cell_type": "code",
   "execution_count": 25,
   "id": "649357a0-75c9-4a14-bbc2-42a3dcce452a",
   "metadata": {},
   "outputs": [
    {
     "name": "stdout",
     "output_type": "stream",
     "text": [
      "Experience level encoding: ['EN', 'EX', 'MI', 'SE']\n"
     ]
    },
    {
     "data": {
      "text/html": [
       "<div>\n",
       "<style scoped>\n",
       "    .dataframe tbody tr th:only-of-type {\n",
       "        vertical-align: middle;\n",
       "    }\n",
       "\n",
       "    .dataframe tbody tr th {\n",
       "        vertical-align: top;\n",
       "    }\n",
       "\n",
       "    .dataframe thead th {\n",
       "        text-align: right;\n",
       "    }\n",
       "</style>\n",
       "<table border=\"1\" class=\"dataframe\">\n",
       "  <thead>\n",
       "    <tr style=\"text-align: right;\">\n",
       "      <th></th>\n",
       "      <th>Experience Level</th>\n",
       "      <th>Predicted 2024 Salary (USD)</th>\n",
       "    </tr>\n",
       "  </thead>\n",
       "  <tbody>\n",
       "    <tr>\n",
       "      <th>0</th>\n",
       "      <td>Entry</td>\n",
       "      <td>111694.914909</td>\n",
       "    </tr>\n",
       "    <tr>\n",
       "      <th>1</th>\n",
       "      <td>Mid</td>\n",
       "      <td>131967.434578</td>\n",
       "    </tr>\n",
       "    <tr>\n",
       "      <th>2</th>\n",
       "      <td>Senior</td>\n",
       "      <td>152239.954247</td>\n",
       "    </tr>\n",
       "    <tr>\n",
       "      <th>3</th>\n",
       "      <td>Executive</td>\n",
       "      <td>172512.473916</td>\n",
       "    </tr>\n",
       "  </tbody>\n",
       "</table>\n",
       "</div>"
      ],
      "text/plain": [
       "  Experience Level  Predicted 2024 Salary (USD)\n",
       "0            Entry                111694.914909\n",
       "1              Mid                131967.434578\n",
       "2           Senior                152239.954247\n",
       "3        Executive                172512.473916"
      ]
     },
     "execution_count": 25,
     "metadata": {},
     "output_type": "execute_result"
    }
   ],
   "source": [
    "# Check LabelEncoder classes\n",
    "print(\"Experience level encoding:\", list(le.classes_))\n",
    "\n",
    "# Example mapping (adjust if your encoding differs)\n",
    "future_data = pd.DataFrame({\n",
    "    'work_year': [2024, 2024, 2024, 2024],\n",
    "    'experience_level_encoded': [0, 1, 2, 3]  # Adjust based on encoder output\n",
    "})\n",
    "\n",
    "# Predict\n",
    "predicted_salaries = model.predict(future_data)\n",
    "\n",
    "# Display results\n",
    "results = pd.DataFrame({\n",
    "    'Experience Level': ['Entry', 'Mid', 'Senior', 'Executive'],\n",
    "    'Predicted 2024 Salary (USD)': predicted_salaries\n",
    "})\n",
    "\n",
    "results"
   ]
  },
  {
   "cell_type": "markdown",
   "id": "b6fe94ef-fcaa-4bbc-b555-a850a8ccff2f",
   "metadata": {},
   "source": [
    "<h1>Reflection</h1>\n",
    "<hr>"
   ]
  },
  {
   "cell_type": "markdown",
   "id": "3344fb65-ece3-44be-a428-19f1605f91a4",
   "metadata": {},
   "source": [
    "<h1>Does your model make reasonable predictions?</h1>\n",
    "<p>yes as thge model provides the trend of salaries increase with experience and work year.\n",
    "    However, it likely underestimates or overestimates some roles because it only uses two variables.</p>\n",
    "\n",
    "<h1>What are the limitations of using only `work_year` and `experience_level`?</h1>\n",
    "<p>the limitations it ignores are the job title, company size, location, and remote work which are factors significantly affecting salary variation.</p>\n",
    "\n",
    "<h1>How could you improve this model?</h1>\n",
    "<p>maybe adding more features like `job_title`, `company_size`, and `employment_type` that could help in broadening the model </p>\n",
    "\n",
    "<h1>Why is R² not enough to trust your predictions?</h1>\n",
    "<p>a high R² doesn’t ensure the model generalizes well and it can’t capture non-linear relationships.</p>\n"
   ]
  },
  {
   "cell_type": "code",
   "execution_count": null,
   "id": "43d4819c-ef94-4e78-9ac9-d9f5cb37bb1a",
   "metadata": {},
   "outputs": [],
   "source": []
  }
 ],
 "metadata": {
  "kernelspec": {
   "display_name": "Python 3 (ipykernel)",
   "language": "python",
   "name": "python3"
  },
  "language_info": {
   "codemirror_mode": {
    "name": "ipython",
    "version": 3
   },
   "file_extension": ".py",
   "mimetype": "text/x-python",
   "name": "python",
   "nbconvert_exporter": "python",
   "pygments_lexer": "ipython3",
   "version": "3.13.7"
  }
 },
 "nbformat": 4,
 "nbformat_minor": 5
}
