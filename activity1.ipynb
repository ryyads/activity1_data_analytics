{
 "cells": [
  {
   "cell_type": "markdown",
   "id": "16653530-11e9-47ab-b02a-dbcf710fa4c6",
   "metadata": {},
   "source": [
    "<h1>ACTIVITY 1 - PALMERS PENGUINS DATA ANALYTICS PROJECT</h1>\n",
    "<hr>"
   ]
  },
  {
   "cell_type": "markdown",
   "id": "949c3bab-dbce-4918-84b6-61c7876a46c8",
   "metadata": {},
   "source": [
    "<h2>Analyst: Raeven Maranan</h2>"
   ]
  },
  {
   "cell_type": "code",
   "execution_count": 4,
   "id": "002f2570-f6e9-4d3b-8ae1-6c1e16bcc9da",
   "metadata": {},
   "outputs": [],
   "source": [
    "import numpy as np\n",
    "import pandas as pd\n",
    "import warnings\n",
    "warnings.filterwarnings('ignore')"
   ]
  },
  {
   "cell_type": "code",
   "execution_count": 5,
   "id": "63fd6538-98a7-4cca-8ebf-d4eac9bc435d",
   "metadata": {},
   "outputs": [],
   "source": [
    "ibon=pd.read_csv('penguins.csv')"
   ]
  },
  {
   "cell_type": "code",
   "execution_count": 6,
   "id": "496b19b9-07fe-429c-b946-fd39c3b8c1b3",
   "metadata": {},
   "outputs": [
    {
     "data": {
      "text/html": [
       "<div>\n",
       "<style scoped>\n",
       "    .dataframe tbody tr th:only-of-type {\n",
       "        vertical-align: middle;\n",
       "    }\n",
       "\n",
       "    .dataframe tbody tr th {\n",
       "        vertical-align: top;\n",
       "    }\n",
       "\n",
       "    .dataframe thead th {\n",
       "        text-align: right;\n",
       "    }\n",
       "</style>\n",
       "<table border=\"1\" class=\"dataframe\">\n",
       "  <thead>\n",
       "    <tr style=\"text-align: right;\">\n",
       "      <th></th>\n",
       "      <th>species</th>\n",
       "      <th>island</th>\n",
       "      <th>bill_length_mm</th>\n",
       "      <th>bill_depth_mm</th>\n",
       "      <th>flipper_length_mm</th>\n",
       "      <th>body_mass_g</th>\n",
       "      <th>sex</th>\n",
       "      <th>year</th>\n",
       "    </tr>\n",
       "  </thead>\n",
       "  <tbody>\n",
       "    <tr>\n",
       "      <th>0</th>\n",
       "      <td>Adelie</td>\n",
       "      <td>Torgersen</td>\n",
       "      <td>39.1</td>\n",
       "      <td>18.7</td>\n",
       "      <td>181.0</td>\n",
       "      <td>3750.0</td>\n",
       "      <td>male</td>\n",
       "      <td>2007</td>\n",
       "    </tr>\n",
       "    <tr>\n",
       "      <th>1</th>\n",
       "      <td>Adelie</td>\n",
       "      <td>Torgersen</td>\n",
       "      <td>39.5</td>\n",
       "      <td>17.4</td>\n",
       "      <td>186.0</td>\n",
       "      <td>3800.0</td>\n",
       "      <td>female</td>\n",
       "      <td>2007</td>\n",
       "    </tr>\n",
       "    <tr>\n",
       "      <th>2</th>\n",
       "      <td>Adelie</td>\n",
       "      <td>Torgersen</td>\n",
       "      <td>40.3</td>\n",
       "      <td>18.0</td>\n",
       "      <td>195.0</td>\n",
       "      <td>3250.0</td>\n",
       "      <td>female</td>\n",
       "      <td>2007</td>\n",
       "    </tr>\n",
       "    <tr>\n",
       "      <th>3</th>\n",
       "      <td>Adelie</td>\n",
       "      <td>Torgersen</td>\n",
       "      <td>NaN</td>\n",
       "      <td>NaN</td>\n",
       "      <td>NaN</td>\n",
       "      <td>NaN</td>\n",
       "      <td>NaN</td>\n",
       "      <td>2007</td>\n",
       "    </tr>\n",
       "    <tr>\n",
       "      <th>4</th>\n",
       "      <td>Adelie</td>\n",
       "      <td>Torgersen</td>\n",
       "      <td>36.7</td>\n",
       "      <td>19.3</td>\n",
       "      <td>193.0</td>\n",
       "      <td>3450.0</td>\n",
       "      <td>female</td>\n",
       "      <td>2007</td>\n",
       "    </tr>\n",
       "    <tr>\n",
       "      <th>...</th>\n",
       "      <td>...</td>\n",
       "      <td>...</td>\n",
       "      <td>...</td>\n",
       "      <td>...</td>\n",
       "      <td>...</td>\n",
       "      <td>...</td>\n",
       "      <td>...</td>\n",
       "      <td>...</td>\n",
       "    </tr>\n",
       "    <tr>\n",
       "      <th>339</th>\n",
       "      <td>Chinstrap</td>\n",
       "      <td>Dream</td>\n",
       "      <td>55.8</td>\n",
       "      <td>19.8</td>\n",
       "      <td>207.0</td>\n",
       "      <td>4000.0</td>\n",
       "      <td>male</td>\n",
       "      <td>2009</td>\n",
       "    </tr>\n",
       "    <tr>\n",
       "      <th>340</th>\n",
       "      <td>Chinstrap</td>\n",
       "      <td>Dream</td>\n",
       "      <td>43.5</td>\n",
       "      <td>18.1</td>\n",
       "      <td>202.0</td>\n",
       "      <td>3400.0</td>\n",
       "      <td>female</td>\n",
       "      <td>2009</td>\n",
       "    </tr>\n",
       "    <tr>\n",
       "      <th>341</th>\n",
       "      <td>Chinstrap</td>\n",
       "      <td>Dream</td>\n",
       "      <td>49.6</td>\n",
       "      <td>18.2</td>\n",
       "      <td>193.0</td>\n",
       "      <td>3775.0</td>\n",
       "      <td>male</td>\n",
       "      <td>2009</td>\n",
       "    </tr>\n",
       "    <tr>\n",
       "      <th>342</th>\n",
       "      <td>Chinstrap</td>\n",
       "      <td>Dream</td>\n",
       "      <td>50.8</td>\n",
       "      <td>19.0</td>\n",
       "      <td>210.0</td>\n",
       "      <td>4100.0</td>\n",
       "      <td>male</td>\n",
       "      <td>2009</td>\n",
       "    </tr>\n",
       "    <tr>\n",
       "      <th>343</th>\n",
       "      <td>Chinstrap</td>\n",
       "      <td>Dream</td>\n",
       "      <td>50.2</td>\n",
       "      <td>18.7</td>\n",
       "      <td>198.0</td>\n",
       "      <td>3775.0</td>\n",
       "      <td>female</td>\n",
       "      <td>2009</td>\n",
       "    </tr>\n",
       "  </tbody>\n",
       "</table>\n",
       "<p>344 rows × 8 columns</p>\n",
       "</div>"
      ],
      "text/plain": [
       "       species     island  bill_length_mm  bill_depth_mm  flipper_length_mm  \\\n",
       "0       Adelie  Torgersen            39.1           18.7              181.0   \n",
       "1       Adelie  Torgersen            39.5           17.4              186.0   \n",
       "2       Adelie  Torgersen            40.3           18.0              195.0   \n",
       "3       Adelie  Torgersen             NaN            NaN                NaN   \n",
       "4       Adelie  Torgersen            36.7           19.3              193.0   \n",
       "..         ...        ...             ...            ...                ...   \n",
       "339  Chinstrap      Dream            55.8           19.8              207.0   \n",
       "340  Chinstrap      Dream            43.5           18.1              202.0   \n",
       "341  Chinstrap      Dream            49.6           18.2              193.0   \n",
       "342  Chinstrap      Dream            50.8           19.0              210.0   \n",
       "343  Chinstrap      Dream            50.2           18.7              198.0   \n",
       "\n",
       "     body_mass_g     sex  year  \n",
       "0         3750.0    male  2007  \n",
       "1         3800.0  female  2007  \n",
       "2         3250.0  female  2007  \n",
       "3            NaN     NaN  2007  \n",
       "4         3450.0  female  2007  \n",
       "..           ...     ...   ...  \n",
       "339       4000.0    male  2009  \n",
       "340       3400.0  female  2009  \n",
       "341       3775.0    male  2009  \n",
       "342       4100.0    male  2009  \n",
       "343       3775.0  female  2009  \n",
       "\n",
       "[344 rows x 8 columns]"
      ]
     },
     "execution_count": 6,
     "metadata": {},
     "output_type": "execute_result"
    }
   ],
   "source": [
    "ibon"
   ]
  },
  {
   "cell_type": "markdown",
   "id": "f55d80f8-cad5-44b1-a46e-caeecbfcb797",
   "metadata": {},
   "source": [
    "<h1>Descriptive Analysis</h1>"
   ]
  },
  {
   "cell_type": "code",
   "execution_count": 7,
   "id": "d1ae6988-e05c-4e92-9a41-4184283b4bae",
   "metadata": {},
   "outputs": [
    {
     "data": {
      "text/html": [
       "<div>\n",
       "<style scoped>\n",
       "    .dataframe tbody tr th:only-of-type {\n",
       "        vertical-align: middle;\n",
       "    }\n",
       "\n",
       "    .dataframe tbody tr th {\n",
       "        vertical-align: top;\n",
       "    }\n",
       "\n",
       "    .dataframe thead th {\n",
       "        text-align: right;\n",
       "    }\n",
       "</style>\n",
       "<table border=\"1\" class=\"dataframe\">\n",
       "  <thead>\n",
       "    <tr style=\"text-align: right;\">\n",
       "      <th></th>\n",
       "      <th>bill_length_mm</th>\n",
       "      <th>bill_depth_mm</th>\n",
       "      <th>flipper_length_mm</th>\n",
       "      <th>body_mass_g</th>\n",
       "      <th>year</th>\n",
       "    </tr>\n",
       "  </thead>\n",
       "  <tbody>\n",
       "    <tr>\n",
       "      <th>count</th>\n",
       "      <td>342.000000</td>\n",
       "      <td>342.000000</td>\n",
       "      <td>342.000000</td>\n",
       "      <td>342.000000</td>\n",
       "      <td>344.000000</td>\n",
       "    </tr>\n",
       "    <tr>\n",
       "      <th>mean</th>\n",
       "      <td>43.921930</td>\n",
       "      <td>17.151170</td>\n",
       "      <td>200.915205</td>\n",
       "      <td>4201.754386</td>\n",
       "      <td>2008.029070</td>\n",
       "    </tr>\n",
       "    <tr>\n",
       "      <th>std</th>\n",
       "      <td>5.459584</td>\n",
       "      <td>1.974793</td>\n",
       "      <td>14.061714</td>\n",
       "      <td>801.954536</td>\n",
       "      <td>0.818356</td>\n",
       "    </tr>\n",
       "    <tr>\n",
       "      <th>min</th>\n",
       "      <td>32.100000</td>\n",
       "      <td>13.100000</td>\n",
       "      <td>172.000000</td>\n",
       "      <td>2700.000000</td>\n",
       "      <td>2007.000000</td>\n",
       "    </tr>\n",
       "    <tr>\n",
       "      <th>25%</th>\n",
       "      <td>39.225000</td>\n",
       "      <td>15.600000</td>\n",
       "      <td>190.000000</td>\n",
       "      <td>3550.000000</td>\n",
       "      <td>2007.000000</td>\n",
       "    </tr>\n",
       "    <tr>\n",
       "      <th>50%</th>\n",
       "      <td>44.450000</td>\n",
       "      <td>17.300000</td>\n",
       "      <td>197.000000</td>\n",
       "      <td>4050.000000</td>\n",
       "      <td>2008.000000</td>\n",
       "    </tr>\n",
       "    <tr>\n",
       "      <th>75%</th>\n",
       "      <td>48.500000</td>\n",
       "      <td>18.700000</td>\n",
       "      <td>213.000000</td>\n",
       "      <td>4750.000000</td>\n",
       "      <td>2009.000000</td>\n",
       "    </tr>\n",
       "    <tr>\n",
       "      <th>max</th>\n",
       "      <td>59.600000</td>\n",
       "      <td>21.500000</td>\n",
       "      <td>231.000000</td>\n",
       "      <td>6300.000000</td>\n",
       "      <td>2009.000000</td>\n",
       "    </tr>\n",
       "  </tbody>\n",
       "</table>\n",
       "</div>"
      ],
      "text/plain": [
       "       bill_length_mm  bill_depth_mm  flipper_length_mm  body_mass_g  \\\n",
       "count      342.000000     342.000000         342.000000   342.000000   \n",
       "mean        43.921930      17.151170         200.915205  4201.754386   \n",
       "std          5.459584       1.974793          14.061714   801.954536   \n",
       "min         32.100000      13.100000         172.000000  2700.000000   \n",
       "25%         39.225000      15.600000         190.000000  3550.000000   \n",
       "50%         44.450000      17.300000         197.000000  4050.000000   \n",
       "75%         48.500000      18.700000         213.000000  4750.000000   \n",
       "max         59.600000      21.500000         231.000000  6300.000000   \n",
       "\n",
       "              year  \n",
       "count   344.000000  \n",
       "mean   2008.029070  \n",
       "std       0.818356  \n",
       "min    2007.000000  \n",
       "25%    2007.000000  \n",
       "50%    2008.000000  \n",
       "75%    2009.000000  \n",
       "max    2009.000000  "
      ]
     },
     "execution_count": 7,
     "metadata": {},
     "output_type": "execute_result"
    }
   ],
   "source": [
    "ibon.describe()"
   ]
  },
  {
   "cell_type": "code",
   "execution_count": 8,
   "id": "c2e3fa19-b863-4894-a903-ab0027a63346",
   "metadata": {},
   "outputs": [
    {
     "data": {
      "text/html": [
       "<div>\n",
       "<style scoped>\n",
       "    .dataframe tbody tr th:only-of-type {\n",
       "        vertical-align: middle;\n",
       "    }\n",
       "\n",
       "    .dataframe tbody tr th {\n",
       "        vertical-align: top;\n",
       "    }\n",
       "\n",
       "    .dataframe thead th {\n",
       "        text-align: right;\n",
       "    }\n",
       "</style>\n",
       "<table border=\"1\" class=\"dataframe\">\n",
       "  <thead>\n",
       "    <tr style=\"text-align: right;\">\n",
       "      <th></th>\n",
       "      <th>count</th>\n",
       "      <th>mean</th>\n",
       "      <th>std</th>\n",
       "      <th>min</th>\n",
       "      <th>25%</th>\n",
       "      <th>50%</th>\n",
       "      <th>75%</th>\n",
       "      <th>max</th>\n",
       "    </tr>\n",
       "  </thead>\n",
       "  <tbody>\n",
       "    <tr>\n",
       "      <th>bill_length_mm</th>\n",
       "      <td>342.0</td>\n",
       "      <td>43.921930</td>\n",
       "      <td>5.459584</td>\n",
       "      <td>32.1</td>\n",
       "      <td>39.225</td>\n",
       "      <td>44.45</td>\n",
       "      <td>48.5</td>\n",
       "      <td>59.6</td>\n",
       "    </tr>\n",
       "    <tr>\n",
       "      <th>bill_depth_mm</th>\n",
       "      <td>342.0</td>\n",
       "      <td>17.151170</td>\n",
       "      <td>1.974793</td>\n",
       "      <td>13.1</td>\n",
       "      <td>15.600</td>\n",
       "      <td>17.30</td>\n",
       "      <td>18.7</td>\n",
       "      <td>21.5</td>\n",
       "    </tr>\n",
       "    <tr>\n",
       "      <th>flipper_length_mm</th>\n",
       "      <td>342.0</td>\n",
       "      <td>200.915205</td>\n",
       "      <td>14.061714</td>\n",
       "      <td>172.0</td>\n",
       "      <td>190.000</td>\n",
       "      <td>197.00</td>\n",
       "      <td>213.0</td>\n",
       "      <td>231.0</td>\n",
       "    </tr>\n",
       "    <tr>\n",
       "      <th>body_mass_g</th>\n",
       "      <td>342.0</td>\n",
       "      <td>4201.754386</td>\n",
       "      <td>801.954536</td>\n",
       "      <td>2700.0</td>\n",
       "      <td>3550.000</td>\n",
       "      <td>4050.00</td>\n",
       "      <td>4750.0</td>\n",
       "      <td>6300.0</td>\n",
       "    </tr>\n",
       "    <tr>\n",
       "      <th>year</th>\n",
       "      <td>344.0</td>\n",
       "      <td>2008.029070</td>\n",
       "      <td>0.818356</td>\n",
       "      <td>2007.0</td>\n",
       "      <td>2007.000</td>\n",
       "      <td>2008.00</td>\n",
       "      <td>2009.0</td>\n",
       "      <td>2009.0</td>\n",
       "    </tr>\n",
       "  </tbody>\n",
       "</table>\n",
       "</div>"
      ],
      "text/plain": [
       "                   count         mean         std     min       25%      50%  \\\n",
       "bill_length_mm     342.0    43.921930    5.459584    32.1    39.225    44.45   \n",
       "bill_depth_mm      342.0    17.151170    1.974793    13.1    15.600    17.30   \n",
       "flipper_length_mm  342.0   200.915205   14.061714   172.0   190.000   197.00   \n",
       "body_mass_g        342.0  4201.754386  801.954536  2700.0  3550.000  4050.00   \n",
       "year               344.0  2008.029070    0.818356  2007.0  2007.000  2008.00   \n",
       "\n",
       "                      75%     max  \n",
       "bill_length_mm       48.5    59.6  \n",
       "bill_depth_mm        18.7    21.5  \n",
       "flipper_length_mm   213.0   231.0  \n",
       "body_mass_g        4750.0  6300.0  \n",
       "year               2009.0  2009.0  "
      ]
     },
     "execution_count": 8,
     "metadata": {},
     "output_type": "execute_result"
    }
   ],
   "source": [
    "ibon.describe().T"
   ]
  },
  {
   "cell_type": "code",
   "execution_count": 9,
   "id": "f2b70cec-c516-4802-ac95-e231a79af7f1",
   "metadata": {},
   "outputs": [
    {
     "data": {
      "text/plain": [
       "0        male\n",
       "1      female\n",
       "2      female\n",
       "3         NaN\n",
       "4      female\n",
       "        ...  \n",
       "339      male\n",
       "340    female\n",
       "341      male\n",
       "342      male\n",
       "343    female\n",
       "Name: sex, Length: 344, dtype: object"
      ]
     },
     "execution_count": 9,
     "metadata": {},
     "output_type": "execute_result"
    }
   ],
   "source": [
    "ibon['sex']"
   ]
  },
  {
   "cell_type": "code",
   "execution_count": 10,
   "id": "3121e67c-e7f1-4d0f-8eea-b800cf35f18d",
   "metadata": {},
   "outputs": [
    {
     "data": {
      "text/html": [
       "<div>\n",
       "<style scoped>\n",
       "    .dataframe tbody tr th:only-of-type {\n",
       "        vertical-align: middle;\n",
       "    }\n",
       "\n",
       "    .dataframe tbody tr th {\n",
       "        vertical-align: top;\n",
       "    }\n",
       "\n",
       "    .dataframe thead th {\n",
       "        text-align: right;\n",
       "    }\n",
       "</style>\n",
       "<table border=\"1\" class=\"dataframe\">\n",
       "  <thead>\n",
       "    <tr style=\"text-align: right;\">\n",
       "      <th></th>\n",
       "      <th>species</th>\n",
       "      <th>island</th>\n",
       "      <th>bill_length_mm</th>\n",
       "      <th>bill_depth_mm</th>\n",
       "      <th>flipper_length_mm</th>\n",
       "      <th>body_mass_g</th>\n",
       "      <th>sex</th>\n",
       "      <th>year</th>\n",
       "    </tr>\n",
       "  </thead>\n",
       "  <tbody>\n",
       "    <tr>\n",
       "      <th>152</th>\n",
       "      <td>Gentoo</td>\n",
       "      <td>Biscoe</td>\n",
       "      <td>46.1</td>\n",
       "      <td>13.2</td>\n",
       "      <td>211.0</td>\n",
       "      <td>4500.0</td>\n",
       "      <td>female</td>\n",
       "      <td>2007</td>\n",
       "    </tr>\n",
       "    <tr>\n",
       "      <th>153</th>\n",
       "      <td>Gentoo</td>\n",
       "      <td>Biscoe</td>\n",
       "      <td>50.0</td>\n",
       "      <td>16.3</td>\n",
       "      <td>230.0</td>\n",
       "      <td>5700.0</td>\n",
       "      <td>male</td>\n",
       "      <td>2007</td>\n",
       "    </tr>\n",
       "    <tr>\n",
       "      <th>154</th>\n",
       "      <td>Gentoo</td>\n",
       "      <td>Biscoe</td>\n",
       "      <td>48.7</td>\n",
       "      <td>14.1</td>\n",
       "      <td>210.0</td>\n",
       "      <td>4450.0</td>\n",
       "      <td>female</td>\n",
       "      <td>2007</td>\n",
       "    </tr>\n",
       "    <tr>\n",
       "      <th>155</th>\n",
       "      <td>Gentoo</td>\n",
       "      <td>Biscoe</td>\n",
       "      <td>50.0</td>\n",
       "      <td>15.2</td>\n",
       "      <td>218.0</td>\n",
       "      <td>5700.0</td>\n",
       "      <td>male</td>\n",
       "      <td>2007</td>\n",
       "    </tr>\n",
       "    <tr>\n",
       "      <th>156</th>\n",
       "      <td>Gentoo</td>\n",
       "      <td>Biscoe</td>\n",
       "      <td>47.6</td>\n",
       "      <td>14.5</td>\n",
       "      <td>215.0</td>\n",
       "      <td>5400.0</td>\n",
       "      <td>male</td>\n",
       "      <td>2007</td>\n",
       "    </tr>\n",
       "    <tr>\n",
       "      <th>...</th>\n",
       "      <td>...</td>\n",
       "      <td>...</td>\n",
       "      <td>...</td>\n",
       "      <td>...</td>\n",
       "      <td>...</td>\n",
       "      <td>...</td>\n",
       "      <td>...</td>\n",
       "      <td>...</td>\n",
       "    </tr>\n",
       "    <tr>\n",
       "      <th>271</th>\n",
       "      <td>Gentoo</td>\n",
       "      <td>Biscoe</td>\n",
       "      <td>NaN</td>\n",
       "      <td>NaN</td>\n",
       "      <td>NaN</td>\n",
       "      <td>NaN</td>\n",
       "      <td>NaN</td>\n",
       "      <td>2009</td>\n",
       "    </tr>\n",
       "    <tr>\n",
       "      <th>272</th>\n",
       "      <td>Gentoo</td>\n",
       "      <td>Biscoe</td>\n",
       "      <td>46.8</td>\n",
       "      <td>14.3</td>\n",
       "      <td>215.0</td>\n",
       "      <td>4850.0</td>\n",
       "      <td>female</td>\n",
       "      <td>2009</td>\n",
       "    </tr>\n",
       "    <tr>\n",
       "      <th>273</th>\n",
       "      <td>Gentoo</td>\n",
       "      <td>Biscoe</td>\n",
       "      <td>50.4</td>\n",
       "      <td>15.7</td>\n",
       "      <td>222.0</td>\n",
       "      <td>5750.0</td>\n",
       "      <td>male</td>\n",
       "      <td>2009</td>\n",
       "    </tr>\n",
       "    <tr>\n",
       "      <th>274</th>\n",
       "      <td>Gentoo</td>\n",
       "      <td>Biscoe</td>\n",
       "      <td>45.2</td>\n",
       "      <td>14.8</td>\n",
       "      <td>212.0</td>\n",
       "      <td>5200.0</td>\n",
       "      <td>female</td>\n",
       "      <td>2009</td>\n",
       "    </tr>\n",
       "    <tr>\n",
       "      <th>275</th>\n",
       "      <td>Gentoo</td>\n",
       "      <td>Biscoe</td>\n",
       "      <td>49.9</td>\n",
       "      <td>16.1</td>\n",
       "      <td>213.0</td>\n",
       "      <td>5400.0</td>\n",
       "      <td>male</td>\n",
       "      <td>2009</td>\n",
       "    </tr>\n",
       "  </tbody>\n",
       "</table>\n",
       "<p>124 rows × 8 columns</p>\n",
       "</div>"
      ],
      "text/plain": [
       "    species  island  bill_length_mm  bill_depth_mm  flipper_length_mm  \\\n",
       "152  Gentoo  Biscoe            46.1           13.2              211.0   \n",
       "153  Gentoo  Biscoe            50.0           16.3              230.0   \n",
       "154  Gentoo  Biscoe            48.7           14.1              210.0   \n",
       "155  Gentoo  Biscoe            50.0           15.2              218.0   \n",
       "156  Gentoo  Biscoe            47.6           14.5              215.0   \n",
       "..      ...     ...             ...            ...                ...   \n",
       "271  Gentoo  Biscoe             NaN            NaN                NaN   \n",
       "272  Gentoo  Biscoe            46.8           14.3              215.0   \n",
       "273  Gentoo  Biscoe            50.4           15.7              222.0   \n",
       "274  Gentoo  Biscoe            45.2           14.8              212.0   \n",
       "275  Gentoo  Biscoe            49.9           16.1              213.0   \n",
       "\n",
       "     body_mass_g     sex  year  \n",
       "152       4500.0  female  2007  \n",
       "153       5700.0    male  2007  \n",
       "154       4450.0  female  2007  \n",
       "155       5700.0    male  2007  \n",
       "156       5400.0    male  2007  \n",
       "..           ...     ...   ...  \n",
       "271          NaN     NaN  2009  \n",
       "272       4850.0  female  2009  \n",
       "273       5750.0    male  2009  \n",
       "274       5200.0  female  2009  \n",
       "275       5400.0    male  2009  \n",
       "\n",
       "[124 rows x 8 columns]"
      ]
     },
     "execution_count": 10,
     "metadata": {},
     "output_type": "execute_result"
    }
   ],
   "source": [
    "ibon[ibon['species']=='Gentoo']"
   ]
  },
  {
   "cell_type": "code",
   "execution_count": 11,
   "id": "ed0c0ffe-4433-40da-b5ba-850c55dddd72",
   "metadata": {},
   "outputs": [
    {
     "data": {
      "text/plain": [
       "island\n",
       "Biscoe       168\n",
       "Dream        124\n",
       "Torgersen     52\n",
       "Name: count, dtype: int64"
      ]
     },
     "execution_count": 11,
     "metadata": {},
     "output_type": "execute_result"
    }
   ],
   "source": [
    "ibon['island'].value_counts()"
   ]
  },
  {
   "cell_type": "code",
   "execution_count": 12,
   "id": "fb9af325-37e2-4134-ac34-618c09f22008",
   "metadata": {},
   "outputs": [
    {
     "name": "stdout",
     "output_type": "stream",
     "text": [
      "    species  island  bill_length_mm  bill_depth_mm  flipper_length_mm  \\\n",
      "152  Gentoo  Biscoe            46.1           13.2              211.0   \n",
      "153  Gentoo  Biscoe            50.0           16.3              230.0   \n",
      "154  Gentoo  Biscoe            48.7           14.1              210.0   \n",
      "155  Gentoo  Biscoe            50.0           15.2              218.0   \n",
      "156  Gentoo  Biscoe            47.6           14.5              215.0   \n",
      "..      ...     ...             ...            ...                ...   \n",
      "271  Gentoo  Biscoe             NaN            NaN                NaN   \n",
      "272  Gentoo  Biscoe            46.8           14.3              215.0   \n",
      "273  Gentoo  Biscoe            50.4           15.7              222.0   \n",
      "274  Gentoo  Biscoe            45.2           14.8              212.0   \n",
      "275  Gentoo  Biscoe            49.9           16.1              213.0   \n",
      "\n",
      "     body_mass_g     sex  year  \n",
      "152       4500.0  female  2007  \n",
      "153       5700.0    male  2007  \n",
      "154       4450.0  female  2007  \n",
      "155       5700.0    male  2007  \n",
      "156       5400.0    male  2007  \n",
      "..           ...     ...   ...  \n",
      "271          NaN     NaN  2009  \n",
      "272       4850.0  female  2009  \n",
      "273       5750.0    male  2009  \n",
      "274       5200.0  female  2009  \n",
      "275       5400.0    male  2009  \n",
      "\n",
      "[124 rows x 8 columns]\n"
     ]
    }
   ],
   "source": [
    "Gentoo_df=ibon[ibon['species']=='Gentoo']\n",
    "Adelie_df=ibon[ibon['species']=='Adelie']\n",
    "Chinstrap_df=ibon[ibon['species']=='Chinstrap']\n",
    "print(Gentoo_df,)"
   ]
  },
  {
   "cell_type": "code",
   "execution_count": 13,
   "id": "0329852c-35c9-4317-8c1c-707a11b4360e",
   "metadata": {},
   "outputs": [
    {
     "data": {
      "text/plain": [
       "np.float64(5076.016260162602)"
      ]
     },
     "execution_count": 13,
     "metadata": {},
     "output_type": "execute_result"
    }
   ],
   "source": [
    "Gentoo_df['body_mass_g'].mean()"
   ]
  },
  {
   "cell_type": "code",
   "execution_count": 14,
   "id": "d82d5835-8089-4823-b51e-11f6ee46c210",
   "metadata": {},
   "outputs": [
    {
     "data": {
      "text/html": [
       "<div>\n",
       "<style scoped>\n",
       "    .dataframe tbody tr th:only-of-type {\n",
       "        vertical-align: middle;\n",
       "    }\n",
       "\n",
       "    .dataframe tbody tr th {\n",
       "        vertical-align: top;\n",
       "    }\n",
       "\n",
       "    .dataframe thead th {\n",
       "        text-align: right;\n",
       "    }\n",
       "</style>\n",
       "<table border=\"1\" class=\"dataframe\">\n",
       "  <thead>\n",
       "    <tr style=\"text-align: right;\">\n",
       "      <th></th>\n",
       "      <th>species</th>\n",
       "      <th>island</th>\n",
       "      <th>bill_length_mm</th>\n",
       "      <th>bill_depth_mm</th>\n",
       "      <th>flipper_length_mm</th>\n",
       "      <th>body_mass_g</th>\n",
       "      <th>sex</th>\n",
       "      <th>year</th>\n",
       "    </tr>\n",
       "  </thead>\n",
       "  <tbody>\n",
       "    <tr>\n",
       "      <th>152</th>\n",
       "      <td>Gentoo</td>\n",
       "      <td>Biscoe</td>\n",
       "      <td>46.1</td>\n",
       "      <td>13.2</td>\n",
       "      <td>211.0</td>\n",
       "      <td>4500.0</td>\n",
       "      <td>female</td>\n",
       "      <td>2007</td>\n",
       "    </tr>\n",
       "    <tr>\n",
       "      <th>153</th>\n",
       "      <td>Gentoo</td>\n",
       "      <td>Biscoe</td>\n",
       "      <td>50.0</td>\n",
       "      <td>16.3</td>\n",
       "      <td>230.0</td>\n",
       "      <td>5700.0</td>\n",
       "      <td>male</td>\n",
       "      <td>2007</td>\n",
       "    </tr>\n",
       "    <tr>\n",
       "      <th>154</th>\n",
       "      <td>Gentoo</td>\n",
       "      <td>Biscoe</td>\n",
       "      <td>48.7</td>\n",
       "      <td>14.1</td>\n",
       "      <td>210.0</td>\n",
       "      <td>4450.0</td>\n",
       "      <td>female</td>\n",
       "      <td>2007</td>\n",
       "    </tr>\n",
       "    <tr>\n",
       "      <th>155</th>\n",
       "      <td>Gentoo</td>\n",
       "      <td>Biscoe</td>\n",
       "      <td>50.0</td>\n",
       "      <td>15.2</td>\n",
       "      <td>218.0</td>\n",
       "      <td>5700.0</td>\n",
       "      <td>male</td>\n",
       "      <td>2007</td>\n",
       "    </tr>\n",
       "    <tr>\n",
       "      <th>156</th>\n",
       "      <td>Gentoo</td>\n",
       "      <td>Biscoe</td>\n",
       "      <td>47.6</td>\n",
       "      <td>14.5</td>\n",
       "      <td>215.0</td>\n",
       "      <td>5400.0</td>\n",
       "      <td>male</td>\n",
       "      <td>2007</td>\n",
       "    </tr>\n",
       "    <tr>\n",
       "      <th>...</th>\n",
       "      <td>...</td>\n",
       "      <td>...</td>\n",
       "      <td>...</td>\n",
       "      <td>...</td>\n",
       "      <td>...</td>\n",
       "      <td>...</td>\n",
       "      <td>...</td>\n",
       "      <td>...</td>\n",
       "    </tr>\n",
       "    <tr>\n",
       "      <th>270</th>\n",
       "      <td>Gentoo</td>\n",
       "      <td>Biscoe</td>\n",
       "      <td>47.2</td>\n",
       "      <td>13.7</td>\n",
       "      <td>214.0</td>\n",
       "      <td>4925.0</td>\n",
       "      <td>female</td>\n",
       "      <td>2009</td>\n",
       "    </tr>\n",
       "    <tr>\n",
       "      <th>272</th>\n",
       "      <td>Gentoo</td>\n",
       "      <td>Biscoe</td>\n",
       "      <td>46.8</td>\n",
       "      <td>14.3</td>\n",
       "      <td>215.0</td>\n",
       "      <td>4850.0</td>\n",
       "      <td>female</td>\n",
       "      <td>2009</td>\n",
       "    </tr>\n",
       "    <tr>\n",
       "      <th>273</th>\n",
       "      <td>Gentoo</td>\n",
       "      <td>Biscoe</td>\n",
       "      <td>50.4</td>\n",
       "      <td>15.7</td>\n",
       "      <td>222.0</td>\n",
       "      <td>5750.0</td>\n",
       "      <td>male</td>\n",
       "      <td>2009</td>\n",
       "    </tr>\n",
       "    <tr>\n",
       "      <th>274</th>\n",
       "      <td>Gentoo</td>\n",
       "      <td>Biscoe</td>\n",
       "      <td>45.2</td>\n",
       "      <td>14.8</td>\n",
       "      <td>212.0</td>\n",
       "      <td>5200.0</td>\n",
       "      <td>female</td>\n",
       "      <td>2009</td>\n",
       "    </tr>\n",
       "    <tr>\n",
       "      <th>275</th>\n",
       "      <td>Gentoo</td>\n",
       "      <td>Biscoe</td>\n",
       "      <td>49.9</td>\n",
       "      <td>16.1</td>\n",
       "      <td>213.0</td>\n",
       "      <td>5400.0</td>\n",
       "      <td>male</td>\n",
       "      <td>2009</td>\n",
       "    </tr>\n",
       "  </tbody>\n",
       "</table>\n",
       "<p>122 rows × 8 columns</p>\n",
       "</div>"
      ],
      "text/plain": [
       "    species  island  bill_length_mm  bill_depth_mm  flipper_length_mm  \\\n",
       "152  Gentoo  Biscoe            46.1           13.2              211.0   \n",
       "153  Gentoo  Biscoe            50.0           16.3              230.0   \n",
       "154  Gentoo  Biscoe            48.7           14.1              210.0   \n",
       "155  Gentoo  Biscoe            50.0           15.2              218.0   \n",
       "156  Gentoo  Biscoe            47.6           14.5              215.0   \n",
       "..      ...     ...             ...            ...                ...   \n",
       "270  Gentoo  Biscoe            47.2           13.7              214.0   \n",
       "272  Gentoo  Biscoe            46.8           14.3              215.0   \n",
       "273  Gentoo  Biscoe            50.4           15.7              222.0   \n",
       "274  Gentoo  Biscoe            45.2           14.8              212.0   \n",
       "275  Gentoo  Biscoe            49.9           16.1              213.0   \n",
       "\n",
       "     body_mass_g     sex  year  \n",
       "152       4500.0  female  2007  \n",
       "153       5700.0    male  2007  \n",
       "154       4450.0  female  2007  \n",
       "155       5700.0    male  2007  \n",
       "156       5400.0    male  2007  \n",
       "..           ...     ...   ...  \n",
       "270       4925.0  female  2009  \n",
       "272       4850.0  female  2009  \n",
       "273       5750.0    male  2009  \n",
       "274       5200.0  female  2009  \n",
       "275       5400.0    male  2009  \n",
       "\n",
       "[122 rows x 8 columns]"
      ]
     },
     "execution_count": 14,
     "metadata": {},
     "output_type": "execute_result"
    }
   ],
   "source": [
    "ibon [(ibon['body_mass_g']>=4000) & (ibon['species']== 'Gentoo')]"
   ]
  },
  {
   "cell_type": "markdown",
   "id": "3e843eb9-e875-43d4-a2f1-80db1186869a",
   "metadata": {},
   "source": [
    "<h1>Cleaning Data Frames</h1>"
   ]
  },
  {
   "cell_type": "code",
   "execution_count": 15,
   "id": "dfdfd6fd-eac1-438e-9dc7-383b5d4f941c",
   "metadata": {},
   "outputs": [
    {
     "data": {
      "text/plain": [
       "species               0\n",
       "island                0\n",
       "bill_length_mm        2\n",
       "bill_depth_mm         2\n",
       "flipper_length_mm     2\n",
       "body_mass_g           2\n",
       "sex                  11\n",
       "year                  0\n",
       "dtype: int64"
      ]
     },
     "execution_count": 15,
     "metadata": {},
     "output_type": "execute_result"
    }
   ],
   "source": [
    "ibon.isnull().sum()"
   ]
  },
  {
   "cell_type": "markdown",
   "id": "d25b238b-6291-41c9-acc5-347bd27dc9e5",
   "metadata": {},
   "source": [
    "<h1>What to do with all null values?</h1>"
   ]
  },
  {
   "cell_type": "code",
   "execution_count": 16,
   "id": "075f6398-8c8a-4cdc-b6a0-26602d3be248",
   "metadata": {},
   "outputs": [
    {
     "data": {
      "text/plain": [
       "np.float64(43.9219298245614)"
      ]
     },
     "execution_count": 16,
     "metadata": {},
     "output_type": "execute_result"
    }
   ],
   "source": [
    "ibon['bill_length_mm'].mean()"
   ]
  },
  {
   "cell_type": "code",
   "execution_count": 17,
   "id": "bba92b57-7706-4078-a496-234597840c8e",
   "metadata": {},
   "outputs": [
    {
     "data": {
      "text/plain": [
       "0    male\n",
       "Name: sex, dtype: object"
      ]
     },
     "execution_count": 17,
     "metadata": {},
     "output_type": "execute_result"
    }
   ],
   "source": [
    "ibon['sex'].mode()"
   ]
  },
  {
   "cell_type": "markdown",
   "id": "155c98e8-d2a9-410c-8c55-e6c19f422525",
   "metadata": {},
   "source": [
    "<h1>How to fill null values</h1>"
   ]
  },
  {
   "cell_type": "code",
   "execution_count": 18,
   "id": "76ff67e3-e234-4934-abab-39edec485fae",
   "metadata": {},
   "outputs": [],
   "source": [
    "ibon['bill_length_mm']=ibon['bill_length_mm'].fillna(ibon['bill_length_mm'].mean())"
   ]
  },
  {
   "cell_type": "code",
   "execution_count": 19,
   "id": "4e1b7b74-c8d3-494f-bc4e-a7aedd2f8b76",
   "metadata": {},
   "outputs": [],
   "source": [
    "ibon['bill_depth_mm']=ibon['bill_depth_mm'].fillna(ibon['bill_depth_mm'].mean())"
   ]
  },
  {
   "cell_type": "code",
   "execution_count": 20,
   "id": "6bec2f59-c992-40ee-9d7c-17a124cf8618",
   "metadata": {},
   "outputs": [],
   "source": [
    "ibon['flipper_length_mm']=ibon['flipper_length_mm'].fillna(ibon['flipper_length_mm'].mean())"
   ]
  },
  {
   "cell_type": "code",
   "execution_count": 21,
   "id": "c984d3e5-c41f-4f5e-b7d5-ea3109aae003",
   "metadata": {},
   "outputs": [],
   "source": [
    "ibon['body_mass_g']=ibon['body_mass_g'].fillna(ibon['body_mass_g'].mean())"
   ]
  },
  {
   "cell_type": "code",
   "execution_count": 22,
   "id": "ecdd0347-53e6-4c91-bb0c-32899bbf1f2c",
   "metadata": {},
   "outputs": [],
   "source": [
    "ibon['sex']=ibon['sex'].fillna(ibon['sex'].mode()[0])"
   ]
  },
  {
   "cell_type": "code",
   "execution_count": 23,
   "id": "af715b96-217b-44e3-847a-0681bded9c8d",
   "metadata": {},
   "outputs": [
    {
     "data": {
      "text/plain": [
       "species              0\n",
       "island               0\n",
       "bill_length_mm       0\n",
       "bill_depth_mm        0\n",
       "flipper_length_mm    0\n",
       "body_mass_g          0\n",
       "sex                  0\n",
       "year                 0\n",
       "dtype: int64"
      ]
     },
     "execution_count": 23,
     "metadata": {},
     "output_type": "execute_result"
    }
   ],
   "source": [
    "ibon.isnull().sum()"
   ]
  },
  {
   "cell_type": "markdown",
   "id": "dd865e01-86f8-4a42-beac-8400111b7c72",
   "metadata": {},
   "source": [
    "<h1>data types</h1>"
   ]
  },
  {
   "cell_type": "code",
   "execution_count": 24,
   "id": "4da41d84-f421-4dff-aaae-9ce5a1327a73",
   "metadata": {},
   "outputs": [
    {
     "name": "stdout",
     "output_type": "stream",
     "text": [
      "<class 'pandas.core.frame.DataFrame'>\n",
      "RangeIndex: 344 entries, 0 to 343\n",
      "Data columns (total 8 columns):\n",
      " #   Column             Non-Null Count  Dtype  \n",
      "---  ------             --------------  -----  \n",
      " 0   species            344 non-null    object \n",
      " 1   island             344 non-null    object \n",
      " 2   bill_length_mm     344 non-null    float64\n",
      " 3   bill_depth_mm      344 non-null    float64\n",
      " 4   flipper_length_mm  344 non-null    float64\n",
      " 5   body_mass_g        344 non-null    float64\n",
      " 6   sex                344 non-null    object \n",
      " 7   year               344 non-null    int64  \n",
      "dtypes: float64(4), int64(1), object(3)\n",
      "memory usage: 21.6+ KB\n"
     ]
    }
   ],
   "source": [
    "ibon.info()"
   ]
  },
  {
   "cell_type": "code",
   "execution_count": 25,
   "id": "574bb723-89dd-49f4-bafe-40a811d239eb",
   "metadata": {},
   "outputs": [
    {
     "data": {
      "text/html": [
       "<div>\n",
       "<style scoped>\n",
       "    .dataframe tbody tr th:only-of-type {\n",
       "        vertical-align: middle;\n",
       "    }\n",
       "\n",
       "    .dataframe tbody tr th {\n",
       "        vertical-align: top;\n",
       "    }\n",
       "\n",
       "    .dataframe thead th {\n",
       "        text-align: right;\n",
       "    }\n",
       "</style>\n",
       "<table border=\"1\" class=\"dataframe\">\n",
       "  <thead>\n",
       "    <tr style=\"text-align: right;\">\n",
       "      <th></th>\n",
       "      <th>bill_length_mm</th>\n",
       "      <th>bill_depth_mm</th>\n",
       "      <th>flipper_length_mm</th>\n",
       "      <th>body_mass_g</th>\n",
       "      <th>year</th>\n",
       "    </tr>\n",
       "  </thead>\n",
       "  <tbody>\n",
       "    <tr>\n",
       "      <th>count</th>\n",
       "      <td>344.000000</td>\n",
       "      <td>344.000000</td>\n",
       "      <td>344.000000</td>\n",
       "      <td>344.000000</td>\n",
       "      <td>344.000000</td>\n",
       "    </tr>\n",
       "    <tr>\n",
       "      <th>mean</th>\n",
       "      <td>43.921930</td>\n",
       "      <td>17.151170</td>\n",
       "      <td>200.915205</td>\n",
       "      <td>4201.754386</td>\n",
       "      <td>2008.029070</td>\n",
       "    </tr>\n",
       "    <tr>\n",
       "      <th>std</th>\n",
       "      <td>5.443643</td>\n",
       "      <td>1.969027</td>\n",
       "      <td>14.020657</td>\n",
       "      <td>799.613058</td>\n",
       "      <td>0.818356</td>\n",
       "    </tr>\n",
       "    <tr>\n",
       "      <th>min</th>\n",
       "      <td>32.100000</td>\n",
       "      <td>13.100000</td>\n",
       "      <td>172.000000</td>\n",
       "      <td>2700.000000</td>\n",
       "      <td>2007.000000</td>\n",
       "    </tr>\n",
       "    <tr>\n",
       "      <th>25%</th>\n",
       "      <td>39.275000</td>\n",
       "      <td>15.600000</td>\n",
       "      <td>190.000000</td>\n",
       "      <td>3550.000000</td>\n",
       "      <td>2007.000000</td>\n",
       "    </tr>\n",
       "    <tr>\n",
       "      <th>50%</th>\n",
       "      <td>44.250000</td>\n",
       "      <td>17.300000</td>\n",
       "      <td>197.000000</td>\n",
       "      <td>4050.000000</td>\n",
       "      <td>2008.000000</td>\n",
       "    </tr>\n",
       "    <tr>\n",
       "      <th>75%</th>\n",
       "      <td>48.500000</td>\n",
       "      <td>18.700000</td>\n",
       "      <td>213.000000</td>\n",
       "      <td>4750.000000</td>\n",
       "      <td>2009.000000</td>\n",
       "    </tr>\n",
       "    <tr>\n",
       "      <th>max</th>\n",
       "      <td>59.600000</td>\n",
       "      <td>21.500000</td>\n",
       "      <td>231.000000</td>\n",
       "      <td>6300.000000</td>\n",
       "      <td>2009.000000</td>\n",
       "    </tr>\n",
       "  </tbody>\n",
       "</table>\n",
       "</div>"
      ],
      "text/plain": [
       "       bill_length_mm  bill_depth_mm  flipper_length_mm  body_mass_g  \\\n",
       "count      344.000000     344.000000         344.000000   344.000000   \n",
       "mean        43.921930      17.151170         200.915205  4201.754386   \n",
       "std          5.443643       1.969027          14.020657   799.613058   \n",
       "min         32.100000      13.100000         172.000000  2700.000000   \n",
       "25%         39.275000      15.600000         190.000000  3550.000000   \n",
       "50%         44.250000      17.300000         197.000000  4050.000000   \n",
       "75%         48.500000      18.700000         213.000000  4750.000000   \n",
       "max         59.600000      21.500000         231.000000  6300.000000   \n",
       "\n",
       "              year  \n",
       "count   344.000000  \n",
       "mean   2008.029070  \n",
       "std       0.818356  \n",
       "min    2007.000000  \n",
       "25%    2007.000000  \n",
       "50%    2008.000000  \n",
       "75%    2009.000000  \n",
       "max    2009.000000  "
      ]
     },
     "execution_count": 25,
     "metadata": {},
     "output_type": "execute_result"
    }
   ],
   "source": [
    "ibon.describe()"
   ]
  },
  {
   "cell_type": "markdown",
   "id": "367808e4-07fe-4f13-961b-74324bc56c3a",
   "metadata": {},
   "source": [
    "<h1>Changing Data Types</h1>"
   ]
  },
  {
   "cell_type": "code",
   "execution_count": 26,
   "id": "6630dca5-c581-4579-9968-606a8e5c20aa",
   "metadata": {},
   "outputs": [],
   "source": [
    "ibon['species']=ibon['species'].astype('category')\n"
   ]
  },
  {
   "cell_type": "code",
   "execution_count": 27,
   "id": "ac059ae3-bb51-473f-9ae9-4d5715106808",
   "metadata": {},
   "outputs": [
    {
     "name": "stdout",
     "output_type": "stream",
     "text": [
      "<class 'pandas.core.frame.DataFrame'>\n",
      "RangeIndex: 344 entries, 0 to 343\n",
      "Data columns (total 8 columns):\n",
      " #   Column             Non-Null Count  Dtype   \n",
      "---  ------             --------------  -----   \n",
      " 0   species            344 non-null    category\n",
      " 1   island             344 non-null    object  \n",
      " 2   bill_length_mm     344 non-null    float64 \n",
      " 3   bill_depth_mm      344 non-null    float64 \n",
      " 4   flipper_length_mm  344 non-null    float64 \n",
      " 5   body_mass_g        344 non-null    float64 \n",
      " 6   sex                344 non-null    object  \n",
      " 7   year               344 non-null    int64   \n",
      "dtypes: category(1), float64(4), int64(1), object(2)\n",
      "memory usage: 19.4+ KB\n"
     ]
    }
   ],
   "source": [
    "ibon.info()"
   ]
  },
  {
   "cell_type": "markdown",
   "id": "1e8f5b14-5017-4130-9a74-40cc28c76c4e",
   "metadata": {},
   "source": [
    "<h1> Exploratory Data analysis</h1>"
   ]
  },
  {
   "cell_type": "markdown",
   "id": "b6d2975e-bba3-4f77-96ad-77bbd4094ac8",
   "metadata": {},
   "source": [
    "<h1>1) what gender in each species of penguins is the most dominant population?</h1>\n",
    "<hr>"
   ]
  },
  {
   "cell_type": "code",
   "execution_count": 28,
   "id": "a3a3f9b5-6ce4-4571-8efa-7fb7e57a46b2",
   "metadata": {},
   "outputs": [
    {
     "data": {
      "text/plain": [
       "species    sex   \n",
       "Adelie     female    73\n",
       "           male      79\n",
       "Chinstrap  female    34\n",
       "           male      34\n",
       "Gentoo     female    58\n",
       "           male      66\n",
       "dtype: int64"
      ]
     },
     "execution_count": 28,
     "metadata": {},
     "output_type": "execute_result"
    }
   ],
   "source": [
    "ibon.groupby(['species','sex']).size()"
   ]
  },
  {
   "cell_type": "markdown",
   "id": "8390cbf8-626e-41e6-9fc0-7cbbc9678291",
   "metadata": {},
   "source": [
    "<h1>insights no.1</h1>\n",
    "<p>according to the dataset The male specie of adelie has the most population8 </p>"
   ]
  },
  {
   "cell_type": "markdown",
   "id": "6ea19ca2-31ec-4e62-b437-baa8a2de0f94",
   "metadata": {},
   "source": [
    "<h1>2) which penguin specie has the largest body mass?</h1>\n",
    "<hr>"
   ]
  },
  {
   "cell_type": "code",
   "execution_count": 29,
   "id": "a4416194-4fc3-4191-8bae-f55bc54f6b3b",
   "metadata": {},
   "outputs": [
    {
     "data": {
      "text/plain": [
       "np.float64(6300.0)"
      ]
     },
     "execution_count": 29,
     "metadata": {},
     "output_type": "execute_result"
    }
   ],
   "source": [
    "ibon['body_mass_g'].max()"
   ]
  },
  {
   "cell_type": "code",
   "execution_count": 30,
   "id": "fe00f727-f857-4d28-8e9c-3563d6c8c487",
   "metadata": {},
   "outputs": [],
   "source": [
    "Adelie_df=ibon[ibon['species']=='Adelie']\n",
    "Gentoo_df=ibon[ibon['species']=='Gentoo']\n",
    "Chinstrap_df=ibon[ibon['species']=='Chinstrap']"
   ]
  },
  {
   "cell_type": "code",
   "execution_count": 31,
   "id": "ddd7995a-3a3e-4754-b809-a83980e58d2a",
   "metadata": {},
   "outputs": [
    {
     "data": {
      "text/plain": [
       "np.float64(4775.0)"
      ]
     },
     "execution_count": 31,
     "metadata": {},
     "output_type": "execute_result"
    }
   ],
   "source": [
    "Adelie_df['body_mass_g'].max()"
   ]
  },
  {
   "cell_type": "code",
   "execution_count": 32,
   "id": "0916880a-c145-4e7e-a9af-77e22a60523e",
   "metadata": {},
   "outputs": [
    {
     "data": {
      "text/plain": [
       "np.float64(6300.0)"
      ]
     },
     "execution_count": 32,
     "metadata": {},
     "output_type": "execute_result"
    }
   ],
   "source": [
    "Gentoo_df['body_mass_g'].max()"
   ]
  },
  {
   "cell_type": "code",
   "execution_count": 33,
   "id": "713e0c97-4bba-4e09-a836-2c775152ee90",
   "metadata": {},
   "outputs": [
    {
     "data": {
      "text/plain": [
       "np.float64(4800.0)"
      ]
     },
     "execution_count": 33,
     "metadata": {},
     "output_type": "execute_result"
    }
   ],
   "source": [
    "Chinstrap_df['body_mass_g'].max()"
   ]
  },
  {
   "cell_type": "markdown",
   "id": "d35eb068-5a8e-408a-8df7-f2a902478973",
   "metadata": {},
   "source": [
    "<h1>insights no.2</h1>\n",
    "<p>according to the data set the specie gentoo has the largest body mass</p>"
   ]
  },
  {
   "cell_type": "markdown",
   "id": "1922279d-67b9-4fe3-933e-74e441cb574c",
   "metadata": {},
   "source": [
    "<h1>3) what are the different islands the penguins live in? </h1>\n",
    "<hr>"
   ]
  },
  {
   "cell_type": "code",
   "execution_count": 34,
   "id": "2e2cd48f-6c2c-4532-b312-85c48dc1e380",
   "metadata": {},
   "outputs": [
    {
     "data": {
      "text/plain": [
       "island\n",
       "Biscoe       168\n",
       "Dream        124\n",
       "Torgersen     52\n",
       "Name: count, dtype: int64"
      ]
     },
     "execution_count": 34,
     "metadata": {},
     "output_type": "execute_result"
    }
   ],
   "source": [
    "ibon['island'].value_counts()"
   ]
  },
  {
   "cell_type": "markdown",
   "id": "0ab80c5f-602f-4c1d-8591-0b9f8417dcba",
   "metadata": {},
   "source": [
    "<h1>insights no.3</h1>\n",
    "<p>according to the data set the different islands are Biscoe, \n",
    "Drea, and \r\n",
    "Torgersen  </p>"
   ]
  },
  {
   "cell_type": "markdown",
   "id": "73c17b22-b908-43c5-8aa8-a03e0560e43a",
   "metadata": {},
   "source": [
    "<h1>4) which penguin specie has the longest flipper length?</h1>\n",
    "<hr>"
   ]
  },
  {
   "cell_type": "code",
   "execution_count": 35,
   "id": "00708c9f-d1c7-43b8-b962-ae39c41ef4cc",
   "metadata": {},
   "outputs": [
    {
     "data": {
      "text/plain": [
       "np.float64(231.0)"
      ]
     },
     "execution_count": 35,
     "metadata": {},
     "output_type": "execute_result"
    }
   ],
   "source": [
    "ibon['flipper_length_mm'].max()"
   ]
  },
  {
   "cell_type": "code",
   "execution_count": 36,
   "id": "10729006-63be-4752-9dbb-9b2cfd693209",
   "metadata": {},
   "outputs": [
    {
     "data": {
      "text/plain": [
       "np.float64(210.0)"
      ]
     },
     "execution_count": 36,
     "metadata": {},
     "output_type": "execute_result"
    }
   ],
   "source": [
    "Adelie_df['flipper_length_mm'].max()"
   ]
  },
  {
   "cell_type": "code",
   "execution_count": 37,
   "id": "8f6a12ca-ce9d-4b15-a5bb-9926ad192c79",
   "metadata": {},
   "outputs": [
    {
     "data": {
      "text/plain": [
       "np.float64(231.0)"
      ]
     },
     "execution_count": 37,
     "metadata": {},
     "output_type": "execute_result"
    }
   ],
   "source": [
    "Gentoo_df['flipper_length_mm'].max()"
   ]
  },
  {
   "cell_type": "code",
   "execution_count": 38,
   "id": "c01c34d7-afa3-4708-b52e-328380e05e73",
   "metadata": {},
   "outputs": [
    {
     "data": {
      "text/plain": [
       "np.float64(212.0)"
      ]
     },
     "execution_count": 38,
     "metadata": {},
     "output_type": "execute_result"
    }
   ],
   "source": [
    "Chinstrap_df['flipper_length_mm'].max()"
   ]
  },
  {
   "cell_type": "markdown",
   "id": "8973b17e-29c5-4690-99a4-73b0f2a9387d",
   "metadata": {},
   "source": [
    "<h1>insights no.4</h1>\n",
    "<p>according to the data set gentoo has the longest flipper length </p>"
   ]
  },
  {
   "cell_type": "markdown",
   "id": "7d9162ef-a88c-4153-a06d-e4f7432ba475",
   "metadata": {},
   "source": [
    "<h1>5) which penguin specie has the longest bill length?</h1>\n",
    "<hr>"
   ]
  },
  {
   "cell_type": "code",
   "execution_count": 39,
   "id": "41bf0af7-af3a-4e6e-a592-9d36a785c398",
   "metadata": {},
   "outputs": [
    {
     "data": {
      "text/plain": [
       "np.float64(59.6)"
      ]
     },
     "execution_count": 39,
     "metadata": {},
     "output_type": "execute_result"
    }
   ],
   "source": [
    "ibon['bill_length_mm'].max()"
   ]
  },
  {
   "cell_type": "code",
   "execution_count": 40,
   "id": "8f1a3444-da46-4715-bb47-f28e95f70da5",
   "metadata": {},
   "outputs": [
    {
     "data": {
      "text/plain": [
       "np.float64(46.0)"
      ]
     },
     "execution_count": 40,
     "metadata": {},
     "output_type": "execute_result"
    }
   ],
   "source": [
    "Adelie_df['bill_length_mm'].max()"
   ]
  },
  {
   "cell_type": "code",
   "execution_count": 41,
   "id": "3b65f812-6e4f-4217-b15f-08829f17ba4a",
   "metadata": {},
   "outputs": [
    {
     "data": {
      "text/plain": [
       "np.float64(59.6)"
      ]
     },
     "execution_count": 41,
     "metadata": {},
     "output_type": "execute_result"
    }
   ],
   "source": [
    "Gentoo_df['bill_length_mm'].max()"
   ]
  },
  {
   "cell_type": "code",
   "execution_count": 42,
   "id": "acad6454-a75c-4482-9f6a-da4effd4440a",
   "metadata": {},
   "outputs": [
    {
     "data": {
      "text/plain": [
       "np.float64(58.0)"
      ]
     },
     "execution_count": 42,
     "metadata": {},
     "output_type": "execute_result"
    }
   ],
   "source": [
    "Chinstrap_df['bill_length_mm'].max()"
   ]
  },
  {
   "cell_type": "markdown",
   "id": "8861be89-0414-4f6f-be76-d39026f46925",
   "metadata": {},
   "source": [
    "<h1>insights no.5</h1>\n",
    "<p>according to the data set gentoo has the longest flipper length</p>"
   ]
  },
  {
   "cell_type": "markdown",
   "id": "4379e357-64cb-4bfb-9b1a-998647cd0893",
   "metadata": {},
   "source": [
    "<h1>6)which penguin specie has the smallest body mass?</h1>\n",
    "<hr>"
   ]
  },
  {
   "cell_type": "code",
   "execution_count": 43,
   "id": "5152abd1-1713-4ed1-8fe0-1a36c4350798",
   "metadata": {},
   "outputs": [
    {
     "data": {
      "text/plain": [
       "np.float64(2700.0)"
      ]
     },
     "execution_count": 43,
     "metadata": {},
     "output_type": "execute_result"
    }
   ],
   "source": [
    "ibon['body_mass_g'].min()"
   ]
  },
  {
   "cell_type": "code",
   "execution_count": 44,
   "id": "2001fc5f-1ef5-4428-9889-0ca524142362",
   "metadata": {},
   "outputs": [
    {
     "data": {
      "text/plain": [
       "np.float64(2850.0)"
      ]
     },
     "execution_count": 44,
     "metadata": {},
     "output_type": "execute_result"
    }
   ],
   "source": [
    "Adelie_df['body_mass_g'].min()"
   ]
  },
  {
   "cell_type": "code",
   "execution_count": 45,
   "id": "fc5fa72b-18c4-4340-bc99-dd818c21fe40",
   "metadata": {},
   "outputs": [
    {
     "data": {
      "text/plain": [
       "np.float64(3950.0)"
      ]
     },
     "execution_count": 45,
     "metadata": {},
     "output_type": "execute_result"
    }
   ],
   "source": [
    "Gentoo_df['body_mass_g'].min()"
   ]
  },
  {
   "cell_type": "code",
   "execution_count": 46,
   "id": "d24bb7ce-fa90-4758-a7ad-032ba2e3d177",
   "metadata": {},
   "outputs": [
    {
     "data": {
      "text/plain": [
       "np.float64(2700.0)"
      ]
     },
     "execution_count": 46,
     "metadata": {},
     "output_type": "execute_result"
    }
   ],
   "source": [
    "Chinstrap_df['body_mass_g'].min()"
   ]
  },
  {
   "cell_type": "markdown",
   "id": "b3a5a68a-b482-4e80-a917-e09b43eed8b0",
   "metadata": {},
   "source": [
    "<h1>insights no.6</h1>\n",
    "<p>according to the data set the specie of penguin that has the smalest body mass is the Adelie</p>"
   ]
  },
  {
   "cell_type": "markdown",
   "id": "1dc897c7-c219-4f39-9361-f50acd666a4f",
   "metadata": {},
   "source": [
    "<h1>7)how many of the species live in each of the islands?</h1>\n",
    "<hr>"
   ]
  },
  {
   "cell_type": "code",
   "execution_count": 47,
   "id": "d1ba135d-d284-4016-832d-f3ea195079aa",
   "metadata": {},
   "outputs": [
    {
     "data": {
      "text/plain": [
       "species    island   \n",
       "Adelie     Biscoe        44\n",
       "           Dream         56\n",
       "           Torgersen     52\n",
       "Chinstrap  Biscoe         0\n",
       "           Dream         68\n",
       "           Torgersen      0\n",
       "Gentoo     Biscoe       124\n",
       "           Dream          0\n",
       "           Torgersen      0\n",
       "dtype: int64"
      ]
     },
     "execution_count": 47,
     "metadata": {},
     "output_type": "execute_result"
    }
   ],
   "source": [
    "ibon.groupby(['species','island']).size()"
   ]
  },
  {
   "cell_type": "markdown",
   "id": "c65725a5-7661-4e03-b095-1420b14e08cc",
   "metadata": {},
   "source": [
    "<h1>insights no.</h1>\n",
    "<p>according to the data set the specie of penguin that has the smallest body mass is the Adelie</p>"
   ]
  },
  {
   "cell_type": "markdown",
   "id": "94dd9492-1104-44b0-af76-de8b127cebe9",
   "metadata": {},
   "source": [
    "<h1>8) What is the average body mass for each species? </h1>"
   ]
  },
  {
   "cell_type": "code",
   "execution_count": 48,
   "id": "1d0c88c3-d659-4ae0-80a1-f2ffde89ea5a",
   "metadata": {},
   "outputs": [
    {
     "data": {
      "text/plain": [
       "species\n",
       "Adelie       3703.958910\n",
       "Chinstrap    3733.088235\n",
       "Gentoo       5068.965761\n",
       "Name: body_mass_g, dtype: float64"
      ]
     },
     "execution_count": 48,
     "metadata": {},
     "output_type": "execute_result"
    }
   ],
   "source": [
    "ibon.groupby(\"species\")[\"body_mass_g\"].mean()"
   ]
  },
  {
   "cell_type": "markdown",
   "id": "0b948419-5a5d-43e4-aa28-597b00ab869d",
   "metadata": {},
   "source": [
    "<h1>insightn0 8 </h1>\n",
    "<h2>the average body mass for each species is;Adelie-3700.66,Chinstrap-3733.08, and Gentoo-5076.01 </h2>"
   ]
  },
  {
   "cell_type": "markdown",
   "id": "80d6c89f-f66d-4e4f-9255-e1e5d9b1c5d5",
   "metadata": {},
   "source": [
    "<h1>9) what is the maximum body mass of male and female penguins? </h1>"
   ]
  },
  {
   "cell_type": "code",
   "execution_count": 49,
   "id": "4b9ada93-e9c2-4505-aeeb-72c6309b7996",
   "metadata": {},
   "outputs": [
    {
     "data": {
      "text/plain": [
       "sex\n",
       "female    5200.0\n",
       "male      6300.0\n",
       "Name: body_mass_g, dtype: float64"
      ]
     },
     "execution_count": 49,
     "metadata": {},
     "output_type": "execute_result"
    }
   ],
   "source": [
    "ibon.groupby(\"sex\")[\"body_mass_g\"].max()"
   ]
  },
  {
   "cell_type": "markdown",
   "id": "66c82486-0ebd-47d5-8701-9b01a3136aac",
   "metadata": {},
   "source": [
    "<h1>insight no.9 </h1>\n",
    "<h2>the maximum body masses for each genders of oenguins are; female-5200 and male-6300</h2>"
   ]
  },
  {
   "cell_type": "markdown",
   "id": "51bc8a76-9702-4cc8-a881-9bdb5e1b2423",
   "metadata": {},
   "source": [
    "<h1>10) Which year has the longest flipper length? </h1>"
   ]
  },
  {
   "cell_type": "code",
   "execution_count": 50,
   "id": "d89aee4f-5392-4922-8f6d-cd71252729a7",
   "metadata": {},
   "outputs": [
    {
     "data": {
      "text/plain": [
       "year\n",
       "2007    230.0\n",
       "2008    231.0\n",
       "2009    230.0\n",
       "Name: flipper_length_mm, dtype: float64"
      ]
     },
     "execution_count": 50,
     "metadata": {},
     "output_type": "execute_result"
    }
   ],
   "source": [
    "ibon.groupby(\"year\")[\"flipper_length_mm\"].max()"
   ]
  },
  {
   "cell_type": "markdown",
   "id": "ecb94298-4a6f-41d3-9058-df6cef2f7335",
   "metadata": {},
   "source": [
    "<h1>insightno 10 </h1>\n",
    "<h2>the year that had the longest flipper length was in 2008 with 231 in length</h2>"
   ]
  },
  {
   "cell_type": "markdown",
   "id": "8aa50e4b-e6c6-4847-92eb-eab00d852464",
   "metadata": {},
   "source": [
    "<h1>11) Which specie has the shortest bill length on each island? </h1>"
   ]
  },
  {
   "cell_type": "code",
   "execution_count": 51,
   "id": "fa1be63f-3b2f-4762-a634-714a3f138af7",
   "metadata": {},
   "outputs": [
    {
     "data": {
      "text/plain": [
       "species    island   \n",
       "Adelie     Biscoe       34.5\n",
       "           Dream        32.1\n",
       "           Torgersen    33.5\n",
       "Chinstrap  Biscoe        NaN\n",
       "           Dream        40.9\n",
       "           Torgersen     NaN\n",
       "Gentoo     Biscoe       40.9\n",
       "           Dream         NaN\n",
       "           Torgersen     NaN\n",
       "Name: bill_length_mm, dtype: float64"
      ]
     },
     "execution_count": 51,
     "metadata": {},
     "output_type": "execute_result"
    }
   ],
   "source": [
    "ibon.groupby([\"species\", \"island\"])[\"bill_length_mm\"].min()"
   ]
  },
  {
   "cell_type": "markdown",
   "id": "71a5e96d-248a-43d4-9186-546068dc846f",
   "metadata": {},
   "source": [
    "<h1>insight no 11 </h1>\n",
    "<h2>the specie that  has the shortest bill length on each island is adelie</h2>"
   ]
  },
  {
   "cell_type": "markdown",
   "id": "d6bb09e1-c3d2-4338-a97e-0c6cda9d8a06",
   "metadata": {},
   "source": [
    "<h1>12) Which specie has the most populatin in each genders?  </h1>"
   ]
  },
  {
   "cell_type": "code",
   "execution_count": 52,
   "id": "a4e7cb07-ac13-4b68-a7be-f6583ef46f6a",
   "metadata": {},
   "outputs": [
    {
     "data": {
      "text/plain": [
       "species    sex   \n",
       "Adelie     female    73\n",
       "           male      79\n",
       "Chinstrap  female    34\n",
       "           male      34\n",
       "Gentoo     female    58\n",
       "           male      66\n",
       "dtype: int64"
      ]
     },
     "execution_count": 52,
     "metadata": {},
     "output_type": "execute_result"
    }
   ],
   "source": [
    "ibon.groupby([\"species\", \"sex\"]).size()"
   ]
  },
  {
   "cell_type": "markdown",
   "id": "4235a0e2-df88-4a51-867b-ad95724711e0",
   "metadata": {},
   "source": [
    "<h1>insight12 </h1>\n",
    "<h2>the specie that has the largest population in both genders is adelie </h2>"
   ]
  },
  {
   "cell_type": "markdown",
   "id": "d83ae815-5d3e-4c2e-98b7-459e8a2b910e",
   "metadata": {},
   "source": [
    "<h1>Data Aggregation</h1>\n"
   ]
  },
  {
   "cell_type": "code",
   "execution_count": 53,
   "id": "f6ad142a-cfb4-4f0e-84aa-96537d13e377",
   "metadata": {},
   "outputs": [],
   "source": [
    "#species, island, sex"
   ]
  },
  {
   "cell_type": "code",
   "execution_count": 54,
   "id": "ee8e06ff-c6c9-4764-89a1-6f201ce1835b",
   "metadata": {},
   "outputs": [],
   "source": [
    "sp_is_x=ibon.groupby(['species','island']).size()"
   ]
  },
  {
   "cell_type": "code",
   "execution_count": 55,
   "id": "94fd3de2-445b-4182-bd24-c55ee219900d",
   "metadata": {},
   "outputs": [
    {
     "data": {
      "text/plain": [
       "species    island   \n",
       "Adelie     Biscoe        44\n",
       "           Dream         56\n",
       "           Torgersen     52\n",
       "Chinstrap  Biscoe         0\n",
       "           Dream         68\n",
       "           Torgersen      0\n",
       "Gentoo     Biscoe       124\n",
       "           Dream          0\n",
       "           Torgersen      0\n",
       "dtype: int64"
      ]
     },
     "execution_count": 55,
     "metadata": {},
     "output_type": "execute_result"
    }
   ],
   "source": [
    "sp_is_x"
   ]
  },
  {
   "cell_type": "code",
   "execution_count": 56,
   "id": "a44a459f-fb1f-4c4b-864f-5a227b1612ff",
   "metadata": {},
   "outputs": [],
   "source": [
    "#specie, island sex average bodymass"
   ]
  },
  {
   "cell_type": "code",
   "execution_count": 57,
   "id": "c28657a9-b4b8-435a-897a-aabb10331cdd",
   "metadata": {},
   "outputs": [],
   "source": [
    "sp_is_x_df=ibon.groupby(['species','island'])['body_mass_g'].mean()"
   ]
  },
  {
   "cell_type": "code",
   "execution_count": 58,
   "id": "5034a848-63ca-4d54-a113-3070a404014c",
   "metadata": {},
   "outputs": [
    {
     "data": {
      "text/plain": [
       "species    island   \n",
       "Adelie     Biscoe       3709.659091\n",
       "           Dream        3688.392857\n",
       "           Torgersen    3715.899123\n",
       "Chinstrap  Biscoe               NaN\n",
       "           Dream        3733.088235\n",
       "           Torgersen            NaN\n",
       "Gentoo     Biscoe       5068.965761\n",
       "           Dream                NaN\n",
       "           Torgersen            NaN\n",
       "Name: body_mass_g, dtype: float64"
      ]
     },
     "execution_count": 58,
     "metadata": {},
     "output_type": "execute_result"
    }
   ],
   "source": [
    "sp_is_x_df\n"
   ]
  },
  {
   "cell_type": "markdown",
   "id": "c353b5ea-9d2e-40c4-8212-86f7f2ddf95a",
   "metadata": {},
   "source": [
    "<h1>Determining correlation using pandas pearsos r</h1>"
   ]
  },
  {
   "cell_type": "markdown",
   "id": "1321fef0-376d-4608-bd2d-eb4af5b07616",
   "metadata": {},
   "source": [
    "<h1>is there a correlation between the bodymass and the flipper</h1>"
   ]
  },
  {
   "cell_type": "code",
   "execution_count": 59,
   "id": "203c8fba-7c20-4a26-a768-4060a6cf99f3",
   "metadata": {},
   "outputs": [],
   "source": [
    "mass_flipp_cor= ibon['flipper_length_mm'].corr(ibon['body_mass_g'])"
   ]
  },
  {
   "cell_type": "code",
   "execution_count": 60,
   "id": "c07839c5-52c7-4e64-b610-8335306ec02d",
   "metadata": {},
   "outputs": [
    {
     "data": {
      "text/plain": [
       "np.float64(0.8712017673060115)"
      ]
     },
     "execution_count": 60,
     "metadata": {},
     "output_type": "execute_result"
    }
   ],
   "source": [
    "mass_flipp_cor"
   ]
  },
  {
   "cell_type": "markdown",
   "id": "b5c0c0ab-9297-43e8-917b-e9b9a18fd876",
   "metadata": {},
   "source": [
    "insight"
   ]
  },
  {
   "cell_type": "code",
   "execution_count": 61,
   "id": "09f31e29-d26c-49be-93e9-6f920eddfa58",
   "metadata": {},
   "outputs": [],
   "source": [
    "bill_cor= ibon['bill_length_mm'].corr(ibon['bill_depth_mm'])"
   ]
  },
  {
   "cell_type": "code",
   "execution_count": 62,
   "id": "f99a3537-a9a2-4c90-a5c2-c56d99f62043",
   "metadata": {},
   "outputs": [
    {
     "data": {
      "text/plain": [
       "np.float64(-0.23505287035553285)"
      ]
     },
     "execution_count": 62,
     "metadata": {},
     "output_type": "execute_result"
    }
   ],
   "source": [
    "bill_cor"
   ]
  },
  {
   "cell_type": "markdown",
   "id": "cc632ee5-9561-460b-8fec-c3f0ab23fc3c",
   "metadata": {},
   "source": [
    "<h1>Categorical to numerical correlation</h1>\n",
    "<h2>using one way anova</h2>"
   ]
  },
  {
   "cell_type": "markdown",
   "id": "84ce8508-4680-47c4-b03d-aef7dfec87dd",
   "metadata": {},
   "source": [
    "<h2>library: scientific python(SciPy)</h2>"
   ]
  },
  {
   "cell_type": "code",
   "execution_count": 63,
   "id": "21cc5f6e-0b74-4350-a8d2-951d89c8ffc2",
   "metadata": {},
   "outputs": [],
   "source": [
    "from scipy.stats import f_oneway"
   ]
  },
  {
   "cell_type": "code",
   "execution_count": 64,
   "id": "f56095a1-9652-472f-8855-c41cae26d6ab",
   "metadata": {},
   "outputs": [],
   "source": [
    "male_df = ibon[ibon['sex']=='male']"
   ]
  },
  {
   "cell_type": "code",
   "execution_count": 65,
   "id": "f5d8832b-fb1a-4aad-a58e-cb13d54c2348",
   "metadata": {},
   "outputs": [
    {
     "data": {
      "text/plain": [
       "0      3750.000000\n",
       "3      4201.754386\n",
       "5      3650.000000\n",
       "7      4675.000000\n",
       "8      3475.000000\n",
       "          ...     \n",
       "334    3800.000000\n",
       "336    3950.000000\n",
       "339    4000.000000\n",
       "341    3775.000000\n",
       "342    4100.000000\n",
       "Name: body_mass_g, Length: 179, dtype: float64"
      ]
     },
     "execution_count": 65,
     "metadata": {},
     "output_type": "execute_result"
    }
   ],
   "source": [
    "male_df['body_mass_g']"
   ]
  },
  {
   "cell_type": "code",
   "execution_count": 66,
   "id": "8bd427ee-af8e-414f-a8ac-627f71a562ad",
   "metadata": {},
   "outputs": [
    {
     "data": {
      "text/plain": [
       "0      3750.000000\n",
       "3      4201.754386\n",
       "5      3650.000000\n",
       "7      4675.000000\n",
       "8      3475.000000\n",
       "          ...     \n",
       "334    3800.000000\n",
       "336    3950.000000\n",
       "339    4000.000000\n",
       "341    3775.000000\n",
       "342    4100.000000\n",
       "Name: body_mass_g, Length: 179, dtype: float64"
      ]
     },
     "execution_count": 66,
     "metadata": {},
     "output_type": "execute_result"
    }
   ],
   "source": [
    "ibon[ibon['sex']=='male']['body_mass_g']"
   ]
  },
  {
   "cell_type": "code",
   "execution_count": 67,
   "id": "3df5bc28-c03d-4342-af04-39405c5fc079",
   "metadata": {},
   "outputs": [
    {
     "data": {
      "text/plain": [
       "F_onewayResult(statistic=np.float64(338.5729100782219), pvalue=np.float64(1.0069770504491128e-81))"
      ]
     },
     "execution_count": 67,
     "metadata": {},
     "output_type": "execute_result"
    }
   ],
   "source": [
    "f_oneway(ibon[ibon['species']=='Gentoo']['body_mass_g'],ibon[ibon['species']=='Chinstrap']['body_mass_g'],ibon[ibon['species']=='Adelie']['body_mass_g'])"
   ]
  },
  {
   "cell_type": "markdown",
   "id": "3a53c2d8-b854-4b10-9f69-d4b8a72f61df",
   "metadata": {},
   "source": [
    "<h1>Data Visualization</h1>"
   ]
  },
  {
   "cell_type": "code",
   "execution_count": 71,
   "id": "c36aaae6-f8f6-46e4-9b3a-7a0bb132e515",
   "metadata": {},
   "outputs": [],
   "source": [
    "import matplotlib.pyplot as plt"
   ]
  },
  {
   "cell_type": "code",
   "execution_count": 72,
   "id": "e0a9bddd-48fd-40f9-abb8-61ff8dd3cc95",
   "metadata": {},
   "outputs": [],
   "source": [
    "ibon_count=ibon['island'].value_counts()"
   ]
  },
  {
   "cell_type": "code",
   "execution_count": 73,
   "id": "6a12bbcc-d6bd-4e98-8040-78a16b24c686",
   "metadata": {},
   "outputs": [
    {
     "data": {
      "text/plain": [
       "array([168, 124,  52])"
      ]
     },
     "execution_count": 73,
     "metadata": {},
     "output_type": "execute_result"
    }
   ],
   "source": [
    "ibon_count.values"
   ]
  },
  {
   "cell_type": "code",
   "execution_count": 74,
   "id": "d6bf3630-1046-429b-a2b8-47fc3cdd5ec8",
   "metadata": {},
   "outputs": [
    {
     "data": {
      "image/png": "[encoded data removed]",
      "text/plain": [
       "<Figure size 640x480 with 1 Axes>"
      ]
     },
     "metadata": {},
     "output_type": "display_data"
    }
   ],
   "source": [
    "#plt.bar(x.y.optiona;_values....)\n",
    "plt.bar(ibon_count.index,ibon_count.values,color=['pink'])\n",
    "plt.show()"
   ]
  },
  {
   "cell_type": "code",
   "execution_count": 75,
   "id": "07d2ebfd-dcf2-4764-988b-331f50e435be",
   "metadata": {},
   "outputs": [
    {
     "data": {
      "text/plain": [
       "species              category\n",
       "island                 object\n",
       "bill_length_mm        float64\n",
       "bill_depth_mm         float64\n",
       "flipper_length_mm     float64\n",
       "body_mass_g           float64\n",
       "sex                    object\n",
       "year                    int64\n",
       "dtype: object"
      ]
     },
     "execution_count": 75,
     "metadata": {},
     "output_type": "execute_result"
    }
   ],
   "source": [
    "ibon.dtypes"
   ]
  },
  {
   "cell_type": "code",
   "execution_count": 76,
   "id": "ae35bf1b-c1e3-4bb1-96d2-5b5b751ae3b6",
   "metadata": {},
   "outputs": [
    {
     "data": {
      "image/png": "[encoded data removed]",
      "text/plain": [
       "<Figure size 640x480 with 1 Axes>"
      ]
     },
     "metadata": {},
     "output_type": "display_data"
    }
   ],
   "source": [
    "plt.scatter(ibon['body_mass_g'], ibon['flipper_length_mm'], color=['pink'])\n",
    "plt.xlabel('body mass')\n",
    "plt.ylabel('flipper length')\n",
    "plt.show()"
   ]
  },
  {
   "cell_type": "code",
   "execution_count": null,
   "id": "9b079b2d-6b97-4e31-99d1-28ee18ccbe18",
   "metadata": {},
   "outputs": [],
   "source": []
  }
 ],
 "metadata": {
  "kernelspec": {
   "display_name": "Python 3 (ipykernel)",
   "language": "python",
   "name": "python3"
  },
  "language_info": {
   "codemirror_mode": {
    "name": "ipython",
    "version": 3
   },
   "file_extension": ".py",
   "mimetype": "text/x-python",
   "name": "python",
   "nbconvert_exporter": "python",
   "pygments_lexer": "ipython3",
   "version": "3.13.7"
  }
 },
 "nbformat": 4,
 "nbformat_minor": 5
}
